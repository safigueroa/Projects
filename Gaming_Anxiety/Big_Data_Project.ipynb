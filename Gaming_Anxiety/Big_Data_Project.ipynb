{
 "cells": [
  {
   "cell_type": "markdown",
   "id": "b45248ae",
   "metadata": {},
   "source": [
    "## CIS 4567\n",
    "## Dr Mohammed Salehan\n",
    "## Sergio Figueroa and Roman Lewis"
   ]
  },
  {
   "cell_type": "markdown",
   "id": "dfd85de4",
   "metadata": {},
   "source": [
    "# Milestone 2: Data Preprocessing"
   ]
  },
  {
   "cell_type": "markdown",
   "id": "631a7e05",
   "metadata": {},
   "source": [
    "## Objective"
   ]
  },
  {
   "cell_type": "markdown",
   "id": "a771ee19",
   "metadata": {},
   "source": [
    "The object of this project is to anticipate any sudden increase of the included anxiety, social phobia, and life satisfaction (GAD-7, SPIN, SWL, and SINS) scores in relation to how much someone games – this will be done by a linear regression predictive model. However, before we can start modeling, we will have to clean up a lot of repetitive and nonessential data from our dataset. The included timestamp of when the survey was started will not prove useful in our analysis, along with the individual responses of each question in the personality tests given – seven questions in the GAD-7, five in SWL, and seventeen in SPIN. Columns for game, platform, league, highestleague, reference, and accept (of terms) will also be dropped; these specific variables are extremely skewed due to how and where the data was collected (in a league of legends subreddit). This, however, does not discredit our dataset in anyway as this subreddit is known to be one of the largest gatherings in the gaming community. "
   ]
  },
  {
   "cell_type": "markdown",
   "id": "8a7d4a92",
   "metadata": {},
   "source": [
    "## Variable Descriptions\n",
    "\n",
    "1) All 13,464 participants provided information about their Demographics including\n",
    "Age, Gender, and country of birth / residence.\n",
    "\n",
    "2) Workplace – Are these participations working, unemployment, a student, a student\n",
    "and employed (Qualitative)\n",
    "\n",
    "3) Degree – Are they graduated with a degree if so, this could include high school,\n",
    "bachelors, masters, PHD (Qualitative)\n",
    "\n",
    "4) Playstyle – This would be the participant’s preference of game: Multiplayer, Single\n",
    "player, Multiplayer-Online with Strangers, or Multiplayer with Friends (Qualitative)\n",
    "\n",
    "5) Why Play – This would describe why these participants choose to game, for fun, to\n",
    "improve, to win. (Qualitative)\n",
    "\n",
    "6) Hours played – How often these participants spend on gaming a day, per week\n",
    "(Quantitative)\n",
    "\n",
    "7) GAD-7 (The Generalized Anxiety Disorder) – Was used to measure generalized\n",
    "anxiety rated on a 5-point scale comprised of seven items with the result being out of\n",
    "0(no anxiety) to 21(severe anxiety).\n",
    "\n",
    "8) SWLS (The Life Satisfaction with Life Scale) – Participants responded on the\n",
    "7-point scale to 5 items indicating their agreement from “strongly disagree” to “strongly\n",
    "agree” The scale was designed to investigate subjective experience of well-being\n",
    "without respect to specific life domains such as health or employment status.\n",
    "\n",
    "9) SPIN (Social anxiety) – These results are formed by a 17-item questionnaire. This\n",
    "variable measured specific symptoms such as (fear, avoidance, and physiologic\n",
    "arousal)\n",
    "This is measured on a 5-point scale:0(“Not at all”) , 1(“A little bit”), 2 (“Somewhat”), 3\n",
    "(“Very much”) or 4 (“Extremely”). These scores are summed up. The scores are then\n",
    "interpreted as degree of social anxiety as follows: none (less than 20 points), mild\n",
    "(21-30 points), moderate (31-40 points), severe (41-50 points) and very severe (51 or\n",
    "more points)\n",
    "\n",
    "10) Narcissism – Measured by the Single Item Narcissism Scale that has reasonable\n",
    "reliability, is significantly correlated with longer narcissism scales, and uncorrelated with\n",
    "self-esteem.\n",
    "\n",
    "11) GADE - Affect of gaming at work\n",
    "\n",
    "12) Streams - How many times they have streamed in a week"
   ]
  },
  {
   "cell_type": "code",
   "execution_count": null,
   "id": "977a4f69",
   "metadata": {},
   "outputs": [
    {
     "name": "stdout",
     "output_type": "stream",
     "text": [
      "Defaulting to user installation because normal site-packages is not writeable\n",
      "Collecting matplotlib\n",
      "  Downloading matplotlib-3.5.0-cp37-cp37m-manylinux_2_5_x86_64.manylinux1_x86_64.whl (11.2 MB)\n",
      "\u001b[K     |████████████████████████████████| 11.2 MB 15.4 MB/s eta 0:00:01\n",
      "\u001b[?25hCollecting pillow>=6.2.0\n",
      "  Downloading Pillow-8.4.0-cp37-cp37m-manylinux_2_17_x86_64.manylinux2014_x86_64.whl (3.1 MB)\n",
      "\u001b[K     |████████████████████████████████| 3.1 MB 44.8 MB/s eta 0:00:01\n",
      "\u001b[?25hRequirement already satisfied: numpy>=1.17 in /emr/notebook-env/lib/python3.7/site-packages (from matplotlib) (1.18.1)\n",
      "Requirement already satisfied: pyparsing>=2.2.1 in /emr/notebook-env/lib/python3.7/site-packages (from matplotlib) (2.4.6)\n",
      "Collecting setuptools-scm>=4\n",
      "  Downloading setuptools_scm-6.3.2-py3-none-any.whl (33 kB)\n",
      "Collecting fonttools>=4.22.0\n",
      "  Downloading fonttools-4.28.2-py3-none-any.whl (880 kB)\n",
      "\u001b[K     |████████████████████████████████| 880 kB 37.7 MB/s eta 0:00:01\n",
      "\u001b[?25hCollecting kiwisolver>=1.0.1\n",
      "  Downloading kiwisolver-1.3.2-cp37-cp37m-manylinux_2_5_x86_64.manylinux1_x86_64.whl (1.1 MB)\n",
      "\u001b[K     |████████████████████████████████| 1.1 MB 40.5 MB/s eta 0:00:01\n",
      "\u001b[?25hRequirement already satisfied: packaging>=20.0 in /emr/notebook-env/lib/python3.7/site-packages (from matplotlib) (20.3)\n",
      "Requirement already satisfied: python-dateutil>=2.7 in /emr/notebook-env/lib/python3.7/site-packages (from matplotlib) (2.8.1)\n",
      "Collecting cycler>=0.10\n",
      "  Downloading cycler-0.11.0-py3-none-any.whl (6.4 kB)\n",
      "Collecting tomli>=1.0.0\n",
      "  Downloading tomli-1.2.2-py3-none-any.whl (12 kB)\n",
      "Requirement already satisfied: setuptools in /emr/notebook-env/lib/python3.7/site-packages (from setuptools-scm>=4->matplotlib) (46.1.3.post20200330)\n",
      "Requirement already satisfied: six in /emr/notebook-env/lib/python3.7/site-packages (from packaging>=20.0->matplotlib) (1.14.0)\n",
      "Installing collected packages: pillow, tomli, setuptools-scm, fonttools, kiwisolver, cycler, matplotlib\n",
      "\u001b[33m  WARNING: The scripts fonttools, pyftmerge, pyftsubset and ttx are installed in '/home/emr-notebook/.local/bin' which is not on PATH.\n",
      "  Consider adding this directory to PATH or, if you prefer to suppress this warning, use --no-warn-script-location.\u001b[0m\n",
      "Successfully installed cycler-0.11.0 fonttools-4.28.2 kiwisolver-1.3.2 matplotlib-3.5.0 pillow-8.4.0 setuptools-scm-6.3.2 tomli-1.2.2\n"
     ]
    }
   ],
   "source": [
    "%%local\n",
    "#lets start by installing visualization libraries\n",
    "!emr/notebook-env/bin/pip install matplotlib\n",
    "\n",
    "#restart the kernel. You can continue to the next cell after kernel is restarted.\n",
    "import os\n",
    "os._exit(0)"
   ]
  },
  {
   "cell_type": "markdown",
   "id": "6b4d7b46",
   "metadata": {},
   "source": [
    "## Load Data"
   ]
  },
  {
   "cell_type": "code",
   "execution_count": 1,
   "id": "5779e136",
   "metadata": {},
   "outputs": [
    {
     "data": {
      "application/vnd.jupyter.widget-view+json": {
       "model_id": "4f2e7959ac5547fe9f2ea64b4a20feeb",
       "version_major": 2,
       "version_minor": 0
      },
      "text/plain": [
       "VBox()"
      ]
     },
     "metadata": {},
     "output_type": "display_data"
    },
    {
     "name": "stdout",
     "output_type": "stream",
     "text": [
      "Starting Spark application\n"
     ]
    },
    {
     "data": {
      "text/html": [
       "<table>\n",
       "<tr><th>ID</th><th>YARN Application ID</th><th>Kind</th><th>State</th><th>Spark UI</th><th>Driver log</th><th>Current session?</th></tr><tr><td>0</td><td>application_1638350219052_0001</td><td>pyspark</td><td>idle</td><td><a target=\"_blank\" href=\"http://ip-172-31-68-17.ec2.internal:20888/proxy/application_1638350219052_0001/\">Link</a></td><td><a target=\"_blank\" href=\"http://ip-172-31-65-211.ec2.internal:8042/node/containerlogs/container_1638350219052_0001_01_000001/livy\">Link</a></td><td>✔</td></tr></table>"
      ],
      "text/plain": [
       "<IPython.core.display.HTML object>"
      ]
     },
     "metadata": {},
     "output_type": "display_data"
    },
    {
     "data": {
      "application/vnd.jupyter.widget-view+json": {
       "model_id": "",
       "version_major": 2,
       "version_minor": 0
      },
      "text/plain": [
       "FloatProgress(value=0.0, bar_style='info', description='Progress:', layout=Layout(height='25px', width='50%'),…"
      ]
     },
     "metadata": {},
     "output_type": "display_data"
    },
    {
     "name": "stdout",
     "output_type": "stream",
     "text": [
      "SparkSession available as 'spark'.\n"
     ]
    },
    {
     "data": {
      "application/vnd.jupyter.widget-view+json": {
       "model_id": "",
       "version_major": 2,
       "version_minor": 0
      },
      "text/plain": [
       "FloatProgress(value=0.0, bar_style='info', description='Progress:', layout=Layout(height='25px', width='50%'),…"
      ]
     },
     "metadata": {},
     "output_type": "display_data"
    },
    {
     "name": "stdout",
     "output_type": "stream",
     "text": [
      "'2.4.5-amzn-0'"
     ]
    }
   ],
   "source": [
    "# Make sure pyspark is working\n",
    "import pyspark\n",
    "sc.version"
   ]
  },
  {
   "cell_type": "code",
   "execution_count": 2,
   "id": "35909b73",
   "metadata": {},
   "outputs": [
    {
     "data": {
      "application/vnd.jupyter.widget-view+json": {
       "model_id": "b50eb9dfb60340c98fbded7d7e0b8260",
       "version_major": 2,
       "version_minor": 0
      },
      "text/plain": [
       "VBox()"
      ]
     },
     "metadata": {},
     "output_type": "display_data"
    },
    {
     "data": {
      "application/vnd.jupyter.widget-view+json": {
       "model_id": "",
       "version_major": 2,
       "version_minor": 0
      },
      "text/plain": [
       "FloatProgress(value=0.0, bar_style='info', description='Progress:', layout=Layout(height='25px', width='50%'),…"
      ]
     },
     "metadata": {},
     "output_type": "display_data"
    },
    {
     "name": "stdout",
     "output_type": "stream",
     "text": [
      "[['S. No.', 'GADE', 'Hours', 'earnings', 'whyplay', 'streams', 'Narcissism', 'Gender', 'Age', 'Work', 'Degree', 'Birthplace', 'Residence', 'Playstyle', 'GAD_T', 'SWL_T', 'SPIN_T', 'Residence_ISO3', 'Birthplace_ISO3'], ['1', 'Not difficult at all', '15', 'I play for fun', 'having fun', '0', '1', 'Male', '25', 'Unemployed / between jobs', 'Bachelor�(or equivalent)', 'USA', 'USA', 'Singleplayer', '1', '23', '5', 'USA', 'USA'], ['2', 'Somewhat difficult', '8', 'I play for fun', 'having fun', '2', '1', 'Male', '41', 'Unemployed / between jobs', 'Bachelor�(or equivalent)', 'USA', 'USA', 'Multiplayer - online - with strangers', '8', '16', '33', 'USA', 'USA'], ['3', 'Not difficult at all', '0', 'I play for fun', 'having fun', '0', '4', 'Female', '32', 'Employed', 'Bachelor�(or equivalent)', 'Germany', 'Germany', 'Singleplayer', '8', '17', '31', 'DEU', 'DEU'], ['4', 'Not difficult at all', '20', 'I play for fun', 'improving', '5', '2', 'Male', '28', 'Employed', 'Bachelor�(or equivalent)', 'USA', 'USA', 'Multiplayer - online - with online acquaintances or teammates', '0', '17', '11', 'USA', 'USA']]"
     ]
    }
   ],
   "source": [
    "# Let's load GamingStudy data set as an rdd\n",
    "gaming = (\n",
    "    sc\n",
    "    .textFile('s3://cis4670-sergiofigueroa/Spark/GamingStudy_data2.csv') \n",
    "    .map(lambda element: element.split(\",\"))\n",
    ")\n",
    "gaming.take(5)"
   ]
  },
  {
   "cell_type": "code",
   "execution_count": 3,
   "id": "6f45215a",
   "metadata": {},
   "outputs": [
    {
     "data": {
      "application/vnd.jupyter.widget-view+json": {
       "model_id": "0471e1e059874356914454270cd5a5a9",
       "version_major": 2,
       "version_minor": 0
      },
      "text/plain": [
       "VBox()"
      ]
     },
     "metadata": {},
     "output_type": "display_data"
    },
    {
     "data": {
      "application/vnd.jupyter.widget-view+json": {
       "model_id": "",
       "version_major": 2,
       "version_minor": 0
      },
      "text/plain": [
       "FloatProgress(value=0.0, bar_style='info', description='Progress:', layout=Layout(height='25px', width='50%'),…"
      ]
     },
     "metadata": {},
     "output_type": "display_data"
    },
    {
     "name": "stdout",
     "output_type": "stream",
     "text": [
      "[['1', 'Not difficult at all', '15', 'I play for fun', 'having fun', '0', '1', 'Male', '25', 'Unemployed / between jobs', 'Bachelor�(or equivalent)', 'USA', 'USA', 'Singleplayer', '1', '23', '5', 'USA', 'USA'], ['2', 'Somewhat difficult', '8', 'I play for fun', 'having fun', '2', '1', 'Male', '41', 'Unemployed / between jobs', 'Bachelor�(or equivalent)', 'USA', 'USA', 'Multiplayer - online - with strangers', '8', '16', '33', 'USA', 'USA'], ['3', 'Not difficult at all', '0', 'I play for fun', 'having fun', '0', '4', 'Female', '32', 'Employed', 'Bachelor�(or equivalent)', 'Germany', 'Germany', 'Singleplayer', '8', '17', '31', 'DEU', 'DEU'], ['4', 'Not difficult at all', '20', 'I play for fun', 'improving', '5', '2', 'Male', '28', 'Employed', 'Bachelor�(or equivalent)', 'USA', 'USA', 'Multiplayer - online - with online acquaintances or teammates', '0', '17', '11', 'USA', 'USA'], ['5', 'Very difficult', '20', 'I play for fun', 'having fun', '1', '1', 'Male', '19', 'Employed', 'High school diploma (or equivalent)', 'USA', 'South Korea', 'Multiplayer - online - with strangers', '14', '14', '13', 'KOR', 'USA']]"
     ]
    }
   ],
   "source": [
    "# Remove header of rdd\n",
    "gaming = (\n",
    "gaming\n",
    ".zipWithIndex()\n",
    ".filter(lambda row: row[1] > 0)\n",
    ".map(lambda row: row[0])\n",
    ")\n",
    "gaming.take(5)"
   ]
  },
  {
   "cell_type": "code",
   "execution_count": 4,
   "id": "9d433e19",
   "metadata": {
    "scrolled": true
   },
   "outputs": [
    {
     "data": {
      "application/vnd.jupyter.widget-view+json": {
       "model_id": "40dc6639d9464b4287a5aa73af66a238",
       "version_major": 2,
       "version_minor": 0
      },
      "text/plain": [
       "VBox()"
      ]
     },
     "metadata": {},
     "output_type": "display_data"
    },
    {
     "data": {
      "application/vnd.jupyter.widget-view+json": {
       "model_id": "",
       "version_major": 2,
       "version_minor": 0
      },
      "text/plain": [
       "FloatProgress(value=0.0, bar_style='info', description='Progress:', layout=Layout(height='25px', width='50%'),…"
      ]
     },
     "metadata": {},
     "output_type": "display_data"
    },
    {
     "name": "stdout",
     "output_type": "stream",
     "text": [
      "+------+--------------------+-----+--------------+----------+-------+----------+------+---+--------------------+--------------------+----------+---------+--------------------+-----+-----+------+--------------+---------------+\n",
      "|S. No.|                GADE|Hours|      earnings|   whyplay|streams|Narcissism|Gender|Age|                Work|              Degree|Birthplace|Residence|           Playstyle|GAD_T|SWL_T|SPIN_T|Residence_ISO3|Birthplace_ISO3|\n",
      "+------+--------------------+-----+--------------+----------+-------+----------+------+---+--------------------+--------------------+----------+---------+--------------------+-----+-----+------+--------------+---------------+\n",
      "|     1|Not difficult at all|   15|I play for fun|having fun|      0|         1|  Male| 25|Unemployed / betw...|Bachelor�(or equi...|       USA|      USA|        Singleplayer|    1|   23|     5|           USA|            USA|\n",
      "|     2|  Somewhat difficult|    8|I play for fun|having fun|      2|         1|  Male| 41|Unemployed / betw...|Bachelor�(or equi...|       USA|      USA|Multiplayer - onl...|    8|   16|    33|           USA|            USA|\n",
      "|     3|Not difficult at all|    0|I play for fun|having fun|      0|         4|Female| 32|            Employed|Bachelor�(or equi...|   Germany|  Germany|        Singleplayer|    8|   17|    31|           DEU|            DEU|\n",
      "+------+--------------------+-----+--------------+----------+-------+----------+------+---+--------------------+--------------------+----------+---------+--------------------+-----+-----+------+--------------+---------------+\n",
      "only showing top 3 rows"
     ]
    }
   ],
   "source": [
    "# We will now read our csv and convert it into a dataframe for preprocessing\n",
    "gaming_df1 = spark.read.options(header='True',inferSchema='True',delimiter=',',nullValue='NA').csv(\"s3://cis4670-sergiofigueroa/Spark/GamingStudy_data2.csv\")\n",
    "gaming_df1.show(3)"
   ]
  },
  {
   "cell_type": "code",
   "execution_count": 5,
   "id": "475810f5",
   "metadata": {},
   "outputs": [
    {
     "data": {
      "application/vnd.jupyter.widget-view+json": {
       "model_id": "7f3a7dc0827c4ed28980ec978f69f6b4",
       "version_major": 2,
       "version_minor": 0
      },
      "text/plain": [
       "VBox()"
      ]
     },
     "metadata": {},
     "output_type": "display_data"
    },
    {
     "data": {
      "application/vnd.jupyter.widget-view+json": {
       "model_id": "",
       "version_major": 2,
       "version_minor": 0
      },
      "text/plain": [
       "FloatProgress(value=0.0, bar_style='info', description='Progress:', layout=Layout(height='25px', width='50%'),…"
      ]
     },
     "metadata": {},
     "output_type": "display_data"
    },
    {
     "name": "stdout",
     "output_type": "stream",
     "text": [
      "+---+--------------------+-----+--------------+----------+-------+----------+------+---+--------------------+--------------------+----------+---------+--------------------+-----+-----+------+--------------+---------------+\n",
      "| Id|                GADE|Hours|      earnings|   whyplay|streams|Narcissism|Gender|Age|                Work|              Degree|Birthplace|Residence|           Playstyle|GAD_T|SWL_T|SPIN_T|Residence_ISO3|Birthplace_ISO3|\n",
      "+---+--------------------+-----+--------------+----------+-------+----------+------+---+--------------------+--------------------+----------+---------+--------------------+-----+-----+------+--------------+---------------+\n",
      "|  1|Not difficult at all|   15|I play for fun|having fun|      0|         1|  Male| 25|Unemployed / betw...|Bachelor�(or equi...|       USA|      USA|        Singleplayer|    1|   23|     5|           USA|            USA|\n",
      "|  2|  Somewhat difficult|    8|I play for fun|having fun|      2|         1|  Male| 41|Unemployed / betw...|Bachelor�(or equi...|       USA|      USA|Multiplayer - onl...|    8|   16|    33|           USA|            USA|\n",
      "|  3|Not difficult at all|    0|I play for fun|having fun|      0|         4|Female| 32|            Employed|Bachelor�(or equi...|   Germany|  Germany|        Singleplayer|    8|   17|    31|           DEU|            DEU|\n",
      "+---+--------------------+-----+--------------+----------+-------+----------+------+---+--------------------+--------------------+----------+---------+--------------------+-----+-----+------+--------------+---------------+\n",
      "only showing top 3 rows"
     ]
    }
   ],
   "source": [
    "# Change S. No. column to Id\n",
    "gaming_df = gaming_df1.withColumnRenamed(\"S. No.\",\"Id\")\n",
    "gaming_df.show(3)"
   ]
  },
  {
   "cell_type": "markdown",
   "id": "c1d01224",
   "metadata": {},
   "source": [
    "For clarity purposes, we have renamed the S. No. column to Id. Our output shows that this was done successfully."
   ]
  },
  {
   "cell_type": "code",
   "execution_count": 6,
   "id": "2ea32561",
   "metadata": {},
   "outputs": [
    {
     "data": {
      "application/vnd.jupyter.widget-view+json": {
       "model_id": "f2e07e7d0bf4454489f76f9de708e6ae",
       "version_major": 2,
       "version_minor": 0
      },
      "text/plain": [
       "VBox()"
      ]
     },
     "metadata": {},
     "output_type": "display_data"
    },
    {
     "data": {
      "application/vnd.jupyter.widget-view+json": {
       "model_id": "",
       "version_major": 2,
       "version_minor": 0
      },
      "text/plain": [
       "FloatProgress(value=0.0, bar_style='info', description='Progress:', layout=Layout(height='25px', width='50%'),…"
      ]
     },
     "metadata": {},
     "output_type": "display_data"
    },
    {
     "name": "stdout",
     "output_type": "stream",
     "text": [
      "+---+--------------------+-----+--------------+----------+-------+----------+------+---+--------------------+--------------------+----------+---------+--------------------+-----+-----+------+\n",
      "| Id|                GADE|Hours|      earnings|   whyplay|streams|Narcissism|Gender|Age|                Work|              Degree|Birthplace|Residence|           Playstyle|GAD_T|SWL_T|SPIN_T|\n",
      "+---+--------------------+-----+--------------+----------+-------+----------+------+---+--------------------+--------------------+----------+---------+--------------------+-----+-----+------+\n",
      "|  1|Not difficult at all|   15|I play for fun|having fun|      0|         1|  Male| 25|Unemployed / betw...|Bachelor�(or equi...|       USA|      USA|        Singleplayer|    1|   23|     5|\n",
      "|  2|  Somewhat difficult|    8|I play for fun|having fun|      2|         1|  Male| 41|Unemployed / betw...|Bachelor�(or equi...|       USA|      USA|Multiplayer - onl...|    8|   16|    33|\n",
      "|  3|Not difficult at all|    0|I play for fun|having fun|      0|         4|Female| 32|            Employed|Bachelor�(or equi...|   Germany|  Germany|        Singleplayer|    8|   17|    31|\n",
      "+---+--------------------+-----+--------------+----------+-------+----------+------+---+--------------------+--------------------+----------+---------+--------------------+-----+-----+------+\n",
      "only showing top 3 rows"
     ]
    }
   ],
   "source": [
    "# Drop residence and birthplace (repetitive columns)\n",
    "gaming_df = gaming_df.drop(\"Residence_ISO3\", \"Birthplace_ISO3\")\n",
    "gaming_df.show(3)"
   ]
  },
  {
   "cell_type": "markdown",
   "id": "0d90872d",
   "metadata": {},
   "source": [
    "Drop Residence and Birthplace ISO3 for the sake of readibility -- these are already included in Birthplace and Residence columns"
   ]
  },
  {
   "cell_type": "code",
   "execution_count": 7,
   "id": "9ed62b0a",
   "metadata": {},
   "outputs": [
    {
     "data": {
      "application/vnd.jupyter.widget-view+json": {
       "model_id": "84cb8a1493b045a68da0b5fc5bbcef5c",
       "version_major": 2,
       "version_minor": 0
      },
      "text/plain": [
       "VBox()"
      ]
     },
     "metadata": {},
     "output_type": "display_data"
    },
    {
     "data": {
      "application/vnd.jupyter.widget-view+json": {
       "model_id": "",
       "version_major": 2,
       "version_minor": 0
      },
      "text/plain": [
       "FloatProgress(value=0.0, bar_style='info', description='Progress:', layout=Layout(height='25px', width='50%'),…"
      ]
     },
     "metadata": {},
     "output_type": "display_data"
    },
    {
     "name": "stdout",
     "output_type": "stream",
     "text": [
      "+-------+------------------+------------------+------------------+------------------+------------------+-----------------+------------------+\n",
      "|summary|             Hours|           streams|        Narcissism|               Age|             GAD_T|            SWL_T|            SPIN_T|\n",
      "+-------+------------------+------------------+------------------+------------------+------------------+-----------------+------------------+\n",
      "|  count|             13434|             13364|             13441|             13464|             13464|            13464|             12814|\n",
      "|   mean|22.247357451243115|11.233537862915295|2.0276765121642737|20.930407011289365|5.2119726678550204|19.78884432560903| 19.84852505072577|\n",
      "| stddev| 70.28450178513799| 78.54920946699376|1.0618416846239265| 3.300897077458712| 4.713267175728711|7.229242963846767|13.467493077418919|\n",
      "|    min|                 0|                 0|                 1|                18|                 0|                5|                 0|\n",
      "|    max|              8000|              9001|                 5|                63|                21|               35|                68|\n",
      "+-------+------------------+------------------+------------------+------------------+------------------+-----------------+------------------+"
     ]
    }
   ],
   "source": [
    "# Define numerical features and describe statistics\n",
    "features = ['Hours', 'streams', 'Narcissism', 'Age', 'GAD_T', 'SWL_T', 'SPIN_T']\n",
    "descriptive_stats = gaming_df.describe(features)\n",
    "descriptive_stats.show()"
   ]
  },
  {
   "cell_type": "markdown",
   "id": "17a9b120",
   "metadata": {},
   "source": [
    "It is important to view dataset statistics first to visualize our data and gain insights into what kind of preprocessing must be done. In this case, Hours has an extremely high standard deviation and there are some impossible values as well. We will keep that in mind while preprocessing."
   ]
  },
  {
   "cell_type": "code",
   "execution_count": 8,
   "id": "d40b5c2d",
   "metadata": {},
   "outputs": [
    {
     "data": {
      "application/vnd.jupyter.widget-view+json": {
       "model_id": "ae00db25fd3c446da5d44a86b7db0d8c",
       "version_major": 2,
       "version_minor": 0
      },
      "text/plain": [
       "VBox()"
      ]
     },
     "metadata": {},
     "output_type": "display_data"
    },
    {
     "data": {
      "application/vnd.jupyter.widget-view+json": {
       "model_id": "",
       "version_major": 2,
       "version_minor": 0
      },
      "text/plain": [
       "FloatProgress(value=0.0, bar_style='info', description='Progress:', layout=Layout(height='25px', width='50%'),…"
      ]
     },
     "metadata": {},
     "output_type": "display_data"
    }
   ],
   "source": [
    "# Generate bins and count of each bin\n",
    "histogram_HRS1 = (\n",
    "    gaming_df\n",
    "    .select('Hours')\n",
    "    .rdd\n",
    "    .flatMap(lambda record: record)\n",
    "    .histogram(5)\n",
    ")"
   ]
  },
  {
   "cell_type": "code",
   "execution_count": 9,
   "id": "1cb7c058",
   "metadata": {},
   "outputs": [
    {
     "data": {
      "application/vnd.jupyter.widget-view+json": {
       "model_id": "c5d8a926ddb94ae6aee183502adcada3",
       "version_major": 2,
       "version_minor": 0
      },
      "text/plain": [
       "VBox()"
      ]
     },
     "metadata": {},
     "output_type": "display_data"
    },
    {
     "data": {
      "application/vnd.jupyter.widget-view+json": {
       "model_id": "",
       "version_major": 2,
       "version_minor": 0
      },
      "text/plain": [
       "FloatProgress(value=0.0, bar_style='info', description='Progress:', layout=Layout(height='25px', width='50%'),…"
      ]
     },
     "metadata": {},
     "output_type": "display_data"
    },
    {
     "name": "stdout",
     "output_type": "stream",
     "text": [
      "([0, 1600, 3200, 4800, 6400, 8000], [13433, 0, 0, 0, 1])"
     ]
    }
   ],
   "source": [
    "histogram_HRS1"
   ]
  },
  {
   "cell_type": "code",
   "execution_count": 10,
   "id": "86fae65a",
   "metadata": {},
   "outputs": [
    {
     "data": {
      "application/vnd.jupyter.widget-view+json": {
       "model_id": "",
       "version_major": 2,
       "version_minor": 0
      },
      "text/plain": [
       "FloatProgress(value=0.0, bar_style='info', description='Progress:', layout=Layout(height='25px', width='50%'),…"
      ]
     },
     "metadata": {},
     "output_type": "display_data"
    },
    {
     "data": {
      "application/vnd.jupyter.widget-view+json": {
       "model_id": "",
       "version_major": 2,
       "version_minor": 0
      },
      "text/plain": [
       "FloatProgress(value=0.0, bar_style='info', description='Progress:', layout=Layout(height='25px', width='50%'),…"
      ]
     },
     "metadata": {},
     "output_type": "display_data"
    }
   ],
   "source": [
    "%%spark -o hist_HRS1 \n",
    "#The above Spark magic exports histogram to local node running the notebook\n",
    "#So that we can use the local object to draw a histogram\n",
    "import pandas as pd\n",
    "hist_HRS1 =  spark.createDataFrame(\n",
    "    list(zip(*histogram_HRS1)), \n",
    "    ['bins', 'counts'])"
   ]
  },
  {
   "cell_type": "code",
   "execution_count": 11,
   "id": "3d95b24e",
   "metadata": {},
   "outputs": [
    {
     "data": {
      "application/vnd.jupyter.widget-view+json": {
       "model_id": "65f8f2e172a44adfb1eba832c50ed3a5",
       "version_major": 2,
       "version_minor": 0
      },
      "text/plain": [
       "VBox()"
      ]
     },
     "metadata": {},
     "output_type": "display_data"
    },
    {
     "data": {
      "application/vnd.jupyter.widget-view+json": {
       "model_id": "",
       "version_major": 2,
       "version_minor": 0
      },
      "text/plain": [
       "FloatProgress(value=0.0, bar_style='info', description='Progress:', layout=Layout(height='25px', width='50%'),…"
      ]
     },
     "metadata": {},
     "output_type": "display_data"
    },
    {
     "data": {
      "image/png": "[encoded data removed]",
      "text/plain": [
       "<IPython.core.display.Image object>"
      ]
     },
     "metadata": {},
     "output_type": "display_data"
    }
   ],
   "source": [
    "# Draw histogram of hours\n",
    "#%matplotlib inline\n",
    "import matplotlib\n",
    "import matplotlib.pyplot as plt\n",
    "\n",
    "#IMPORTANT NOTE: If you have a large dataset use a smaller fraction otherwise you may crash your master node when convert Spark df to Pandas df\n",
    "hist_HRS1 = hist_HRS1.sample(fraction=.70).toPandas()\n",
    "hist_HRS1.set_index('bins'\n",
    "            ).plot(kind='bar')\n",
    "plt.show()\n",
    "%matplot plt"
   ]
  },
  {
   "cell_type": "markdown",
   "id": "c6fdec12",
   "metadata": {},
   "source": [
    "Since there seemed to be something amiss with our hours column, it may be helpful to visualize it before we continue. The above code will be explained in more detail later when we finish our visualizations.\n",
    "\n",
    "A histogram of hours shows that this column is not normally distributed and still needs some preprocessing. We will redraw the diagram after we have cleaned our data to see if it is fixed."
   ]
  },
  {
   "cell_type": "markdown",
   "id": "2e3aaed6",
   "metadata": {},
   "source": [
    "## Duplicate Analysis"
   ]
  },
  {
   "cell_type": "code",
   "execution_count": 12,
   "id": "9650912c",
   "metadata": {},
   "outputs": [
    {
     "data": {
      "application/vnd.jupyter.widget-view+json": {
       "model_id": "a6ccbfdf2a2441298f7dc2e3055f8f2b",
       "version_major": 2,
       "version_minor": 0
      },
      "text/plain": [
       "VBox()"
      ]
     },
     "metadata": {},
     "output_type": "display_data"
    },
    {
     "data": {
      "application/vnd.jupyter.widget-view+json": {
       "model_id": "",
       "version_major": 2,
       "version_minor": 0
      },
      "text/plain": [
       "FloatProgress(value=0.0, bar_style='info', description='Progress:', layout=Layout(height='25px', width='50%'),…"
      ]
     },
     "metadata": {},
     "output_type": "display_data"
    },
    {
     "name": "stdout",
     "output_type": "stream",
     "text": [
      "(13464, 13464)"
     ]
    }
   ],
   "source": [
    "# do we have any rows that are duplicated?\n",
    "# This will check record counts vs distinct records to see if there are duplicates\n",
    "gaming_df.count(), gaming_df.distinct().count()"
   ]
  },
  {
   "cell_type": "markdown",
   "id": "88af069e",
   "metadata": {},
   "source": [
    "There appears to be no duplicated rows with id, so we will move onto looking for duplicates with id's removed."
   ]
  },
  {
   "cell_type": "code",
   "execution_count": 13,
   "id": "032e17f9",
   "metadata": {},
   "outputs": [
    {
     "data": {
      "application/vnd.jupyter.widget-view+json": {
       "model_id": "8186cced79da4fc6bb0ab220022caf17",
       "version_major": 2,
       "version_minor": 0
      },
      "text/plain": [
       "VBox()"
      ]
     },
     "metadata": {},
     "output_type": "display_data"
    },
    {
     "data": {
      "application/vnd.jupyter.widget-view+json": {
       "model_id": "",
       "version_major": 2,
       "version_minor": 0
      },
      "text/plain": [
       "FloatProgress(value=0.0, bar_style='info', description='Progress:', layout=Layout(height='25px', width='50%'),…"
      ]
     },
     "metadata": {},
     "output_type": "display_data"
    },
    {
     "name": "stdout",
     "output_type": "stream",
     "text": [
      "(13464, 13413)"
     ]
    }
   ],
   "source": [
    "# The count of rows, without id\n",
    "no_ids = (\n",
    "    gaming_df\n",
    "    .select([col for col in gaming_df.columns if col != 'Id'])\n",
    ")\n",
    "\n",
    "no_ids.count(), no_ids.distinct().count()"
   ]
  },
  {
   "cell_type": "markdown",
   "id": "955515b8",
   "metadata": {},
   "source": [
    "There appears to be 51 duplicate rows -- we can view them to see how many times they come up."
   ]
  },
  {
   "cell_type": "code",
   "execution_count": 14,
   "id": "fb80c3b1",
   "metadata": {},
   "outputs": [
    {
     "data": {
      "application/vnd.jupyter.widget-view+json": {
       "model_id": "7ba2d5d54cc64a73b2cd0c5e9ebf244e",
       "version_major": 2,
       "version_minor": 0
      },
      "text/plain": [
       "VBox()"
      ]
     },
     "metadata": {},
     "output_type": "display_data"
    },
    {
     "data": {
      "application/vnd.jupyter.widget-view+json": {
       "model_id": "",
       "version_major": 2,
       "version_minor": 0
      },
      "text/plain": [
       "FloatProgress(value=0.0, bar_style='info', description='Progress:', layout=Layout(height='25px', width='50%'),…"
      ]
     },
     "metadata": {},
     "output_type": "display_data"
    },
    {
     "name": "stdout",
     "output_type": "stream",
     "text": [
      "+--------------------+-----+--------------+----------+-------+----------+------+---+--------------------+--------------------+----------+---------+--------------------+-----+-----+------+-----+\n",
      "|                GADE|Hours|      earnings|   whyplay|streams|Narcissism|Gender|Age|                Work|              Degree|Birthplace|Residence|           Playstyle|GAD_T|SWL_T|SPIN_T|count|\n",
      "+--------------------+-----+--------------+----------+-------+----------+------+---+--------------------+--------------------+----------+---------+--------------------+-----+-----+------+-----+\n",
      "|  Somewhat difficult|   16|I play for fun| improving|      6|         2|  Male| 20|Student at colleg...|High school diplo...|Bangladesh|      USA|        Singleplayer|    5|   26|    34|    2|\n",
      "|Not difficult at all|   15|I play for fun| improving|     10|         2|  Male| 19|Student at colleg...|High school diplo...|       USA|      USA|Multiplayer - onl...|    0|   19|     3|    2|\n",
      "|  Somewhat difficult|   30|I play for fun| improving|     10|         1|  Male| 20|Student at colleg...|High school diplo...|       USA|      USA|Multiplayer - onl...|    2|   27|     4|    2|\n",
      "|  Somewhat difficult|   40|I play for fun|   winning|     15|         4|  Male| 22|Unemployed / betw...|Bachelor�(or equi...|        UK|       UK|Multiplayer - onl...|   15|    5|    33|    2|\n",
      "|  Somewhat difficult|   17|I play for fun|having fun|      2|         1|  Male| 21|Student at colleg...|High school diplo...|   Belgium|  Belgium|Multiplayer - onl...|    6|   28|    21|    2|\n",
      "+--------------------+-----+--------------+----------+-------+----------+------+---+--------------------+--------------------+----------+---------+--------------------+-----+-----+------+-----+\n",
      "only showing top 5 rows"
     ]
    }
   ],
   "source": [
    "# Check which rows are duplicated without id\n",
    "(\n",
    "    gaming_df\n",
    "    .groupby([col for col in gaming_df.columns if col != 'Id'])\n",
    "    .count()\n",
    "    .filter('count > 1')\n",
    "    .show(5)\n",
    ")"
   ]
  },
  {
   "cell_type": "markdown",
   "id": "47942e42",
   "metadata": {},
   "source": [
    "This may be caused by duplicate survey entries by the same person and we will remove them for our analysis."
   ]
  },
  {
   "cell_type": "code",
   "execution_count": 15,
   "id": "ba476d30",
   "metadata": {},
   "outputs": [
    {
     "data": {
      "application/vnd.jupyter.widget-view+json": {
       "model_id": "f67ccc39306e4162b8069699f79f60ff",
       "version_major": 2,
       "version_minor": 0
      },
      "text/plain": [
       "VBox()"
      ]
     },
     "metadata": {},
     "output_type": "display_data"
    },
    {
     "data": {
      "application/vnd.jupyter.widget-view+json": {
       "model_id": "",
       "version_major": 2,
       "version_minor": 0
      },
      "text/plain": [
       "FloatProgress(value=0.0, bar_style='info', description='Progress:', layout=Layout(height='25px', width='50%'),…"
      ]
     },
     "metadata": {},
     "output_type": "display_data"
    }
   ],
   "source": [
    "# Remove the duplicated record(s)\n",
    "id_removed = gaming_df.dropDuplicates(\n",
    "    subset = [col for col in gaming_df.columns if col != 'Id']\n",
    ")"
   ]
  },
  {
   "cell_type": "code",
   "execution_count": 16,
   "id": "be0c400f",
   "metadata": {},
   "outputs": [
    {
     "data": {
      "application/vnd.jupyter.widget-view+json": {
       "model_id": "5246f47158424863af973c4428234824",
       "version_major": 2,
       "version_minor": 0
      },
      "text/plain": [
       "VBox()"
      ]
     },
     "metadata": {},
     "output_type": "display_data"
    },
    {
     "data": {
      "application/vnd.jupyter.widget-view+json": {
       "model_id": "",
       "version_major": 2,
       "version_minor": 0
      },
      "text/plain": [
       "FloatProgress(value=0.0, bar_style='info', description='Progress:', layout=Layout(height='25px', width='50%'),…"
      ]
     },
     "metadata": {},
     "output_type": "display_data"
    },
    {
     "name": "stdout",
     "output_type": "stream",
     "text": [
      "13413"
     ]
    }
   ],
   "source": [
    "# count of rows\n",
    "id_removed.count()"
   ]
  },
  {
   "cell_type": "markdown",
   "id": "0dd13f37",
   "metadata": {},
   "source": [
    "There are 13413 records remaining after dropping duplicates."
   ]
  },
  {
   "cell_type": "code",
   "execution_count": 17,
   "id": "e7c1e176",
   "metadata": {},
   "outputs": [
    {
     "data": {
      "application/vnd.jupyter.widget-view+json": {
       "model_id": "415094a44e864deba52b8ac13fc5f11b",
       "version_major": 2,
       "version_minor": 0
      },
      "text/plain": [
       "VBox()"
      ]
     },
     "metadata": {},
     "output_type": "display_data"
    },
    {
     "data": {
      "application/vnd.jupyter.widget-view+json": {
       "model_id": "",
       "version_major": 2,
       "version_minor": 0
      },
      "text/plain": [
       "FloatProgress(value=0.0, bar_style='info', description='Progress:', layout=Layout(height='25px', width='50%'),…"
      ]
     },
     "metadata": {},
     "output_type": "display_data"
    },
    {
     "name": "stdout",
     "output_type": "stream",
     "text": [
      "+----------+------------------+\n",
      "|CountOfIDs|CountOfDistinctIDs|\n",
      "+----------+------------------+\n",
      "|     13413|             13413|\n",
      "+----------+------------------+"
     ]
    }
   ],
   "source": [
    "# This code will check for duplicated id's\n",
    "import pyspark.sql.functions as fn\n",
    "\n",
    "id_removed.agg(\n",
    "      fn.count('Id').alias('CountOfIDs')\n",
    "    , fn.countDistinct('Id').alias('CountOfDistinctIDs')\n",
    ").show()"
   ]
  },
  {
   "cell_type": "markdown",
   "id": "83760157",
   "metadata": {},
   "source": [
    "No duplicated id's were found and at this step we are finished with our duplicate analysis."
   ]
  },
  {
   "cell_type": "markdown",
   "id": "98628a69",
   "metadata": {},
   "source": [
    "## Missing Values"
   ]
  },
  {
   "cell_type": "code",
   "execution_count": 18,
   "id": "bdb607ab",
   "metadata": {},
   "outputs": [
    {
     "data": {
      "application/vnd.jupyter.widget-view+json": {
       "model_id": "815a42416308450f9309cf1bf278530d",
       "version_major": 2,
       "version_minor": 0
      },
      "text/plain": [
       "VBox()"
      ]
     },
     "metadata": {},
     "output_type": "display_data"
    },
    {
     "data": {
      "application/vnd.jupyter.widget-view+json": {
       "model_id": "",
       "version_major": 2,
       "version_minor": 0
      },
      "text/plain": [
       "FloatProgress(value=0.0, bar_style='info', description='Progress:', layout=Layout(height='25px', width='50%'),…"
      ]
     },
     "metadata": {},
     "output_type": "display_data"
    },
    {
     "name": "stdout",
     "output_type": "stream",
     "text": [
      "1419"
     ]
    }
   ],
   "source": [
    "# Examine if there are any rows with missing values\n",
    "id_removed.rdd.map(\n",
    "           lambda row: (\n",
    "                 row['Id']\n",
    "               , sum([c == None for c in row])\n",
    "           )\n",
    "        )\\\n",
    "        .filter(lambda el: el[1] >= 1)\\\n",
    "        .count()"
   ]
  },
  {
   "cell_type": "markdown",
   "id": "83521494",
   "metadata": {},
   "source": [
    "This means that there are 1419 records with atleast one missing value."
   ]
  },
  {
   "cell_type": "code",
   "execution_count": 19,
   "id": "5d69c99c",
   "metadata": {},
   "outputs": [
    {
     "data": {
      "application/vnd.jupyter.widget-view+json": {
       "model_id": "234eba7562ee4ff3a1aa6c4105bf4e44",
       "version_major": 2,
       "version_minor": 0
      },
      "text/plain": [
       "VBox()"
      ]
     },
     "metadata": {},
     "output_type": "display_data"
    },
    {
     "data": {
      "application/vnd.jupyter.widget-view+json": {
       "model_id": "",
       "version_major": 2,
       "version_minor": 0
      },
      "text/plain": [
       "FloatProgress(value=0.0, bar_style='info', description='Progress:', layout=Layout(height='25px', width='50%'),…"
      ]
     },
     "metadata": {},
     "output_type": "display_data"
    },
    {
     "name": "stdout",
     "output_type": "stream",
     "text": [
      "+-----+------------+\n",
      "|   Id|CountMissing|\n",
      "+-----+------------+\n",
      "| 8651|           4|\n",
      "|11495|           3|\n",
      "| 4336|           3|\n",
      "| 8756|           3|\n",
      "|10105|           3|\n",
      "| 6337|           3|\n",
      "| 4502|           2|\n",
      "|11414|           2|\n",
      "| 5232|           2|\n",
      "|  170|           2|\n",
      "|11054|           2|\n",
      "|  308|           2|\n",
      "| 3307|           2|\n",
      "| 2350|           2|\n",
      "| 2742|           2|\n",
      "| 5428|           2|\n",
      "|  100|           2|\n",
      "| 1319|           2|\n",
      "| 6449|           2|\n",
      "| 1159|           2|\n",
      "+-----+------------+\n",
      "only showing top 20 rows"
     ]
    }
   ],
   "source": [
    "# Count the number of missing values in each row\n",
    "(\n",
    "    spark.createDataFrame(\n",
    "        id_removed.rdd.map(\n",
    "           lambda row: (\n",
    "                 row['Id']\n",
    "               , sum([c == None for c in row])\n",
    "           )\n",
    "        )\n",
    "        .filter(lambda el: el[1] >= 1)\n",
    "        .collect()\n",
    "        ,['Id', 'CountMissing']\n",
    "    )\n",
    "    .orderBy('CountMissing', ascending=False)\n",
    "    .show()\n",
    ")"
   ]
  },
  {
   "cell_type": "markdown",
   "id": "2eedd572",
   "metadata": {},
   "source": [
    "There is only one record with more than 3 missing values -- id: 8651 with 4 missing values. "
   ]
  },
  {
   "cell_type": "code",
   "execution_count": 20,
   "id": "d8133bbd",
   "metadata": {},
   "outputs": [
    {
     "data": {
      "application/vnd.jupyter.widget-view+json": {
       "model_id": "b31279fa93bb488b9ce234715c1944b9",
       "version_major": 2,
       "version_minor": 0
      },
      "text/plain": [
       "VBox()"
      ]
     },
     "metadata": {},
     "output_type": "display_data"
    },
    {
     "data": {
      "application/vnd.jupyter.widget-view+json": {
       "model_id": "",
       "version_major": 2,
       "version_minor": 0
      },
      "text/plain": [
       "FloatProgress(value=0.0, bar_style='info', description='Progress:', layout=Layout(height='25px', width='50%'),…"
      ]
     },
     "metadata": {},
     "output_type": "display_data"
    },
    {
     "name": "stdout",
     "output_type": "stream",
     "text": [
      "+----+------------------+-----+--------------+---------+-------+----------+------+---+----+--------------------+----------+---------+--------------------+-----+-----+------+\n",
      "|  Id|              GADE|Hours|      earnings|  whyplay|streams|Narcissism|Gender|Age|Work|              Degree|Birthplace|Residence|           Playstyle|GAD_T|SWL_T|SPIN_T|\n",
      "+----+------------------+-----+--------------+---------+-------+----------+------+---+----+--------------------+----------+---------+--------------------+-----+-----+------+\n",
      "|8651|Somewhat difficult|   30|I play for fun|improving|   null|      null|  Male| 20|null|High school diplo...|    Russia|   Russia|Multiplayer - onl...|    0|   27|  null|\n",
      "+----+------------------+-----+--------------+---------+-------+----------+------+---+----+--------------------+----------+---------+--------------------+-----+-----+------+"
     ]
    }
   ],
   "source": [
    "# View the row with the most missing values\n",
    "(\n",
    "    id_removed\n",
    "    .where('Id == 8651')\n",
    "    .show()\n",
    ")"
   ]
  },
  {
   "cell_type": "markdown",
   "id": "9eba5ab8",
   "metadata": {},
   "source": [
    "With 4 missing values, only 25 percent of the data is missing. This record will still prove useful after we finish with our missing values analysis, so we will keep it for now."
   ]
  },
  {
   "cell_type": "code",
   "execution_count": 21,
   "id": "c4a7e94e",
   "metadata": {},
   "outputs": [
    {
     "data": {
      "application/vnd.jupyter.widget-view+json": {
       "model_id": "06e28f5d86b9444cb678aa27f469d59a",
       "version_major": 2,
       "version_minor": 0
      },
      "text/plain": [
       "VBox()"
      ]
     },
     "metadata": {},
     "output_type": "display_data"
    },
    {
     "data": {
      "application/vnd.jupyter.widget-view+json": {
       "model_id": "",
       "version_major": 2,
       "version_minor": 0
      },
      "text/plain": [
       "FloatProgress(value=0.0, bar_style='info', description='Progress:', layout=Layout(height='25px', width='50%'),…"
      ]
     },
     "metadata": {},
     "output_type": "display_data"
    },
    {
     "name": "stdout",
     "output_type": "stream",
     "text": [
      "SPIN_T_miss 0.04831133974502344\n",
      "GADE_miss 0.04823678520837993\n",
      "streams_miss 0.007455453664355516\n",
      "Work_miss 0.002833072392455116\n",
      "Hours_miss 0.002236636099306688\n",
      "Narcissism_miss 0.001714754342801772\n",
      "Id_miss 0.0\n",
      "earnings_miss 0.0\n",
      "whyplay_miss 0.0\n",
      "Gender_miss 0.0\n",
      "Age_miss 0.0\n",
      "Degree_miss 0.0\n",
      "Birthplace_miss 0.0\n",
      "Residence_miss 0.0\n",
      "Playstyle_miss 0.0\n",
      "GAD_T_miss 0.0\n",
      "SWL_T_miss 0.0"
     ]
    }
   ],
   "source": [
    "# Count percentage of missing values in each column\n",
    "for k, v in sorted(\n",
    "    id_removed.agg(*[\n",
    "               (1 - (fn.count(c) / fn.count('*')))\n",
    "                    .alias(c + '_miss')\n",
    "               for c in id_removed.columns\n",
    "           ])\n",
    "        .collect()[0]\n",
    "        .asDict()\n",
    "        .items()\n",
    "    , key=lambda el: el[1]\n",
    "    , reverse=True\n",
    "):\n",
    "    print(k, v)"
   ]
  },
  {
   "cell_type": "markdown",
   "id": "7b45ccf8",
   "metadata": {},
   "source": [
    "There seems to be some inconsistencies in this method, so instead we will just view count of null values per column."
   ]
  },
  {
   "cell_type": "code",
   "execution_count": 22,
   "id": "bfa3c0a4",
   "metadata": {},
   "outputs": [
    {
     "data": {
      "application/vnd.jupyter.widget-view+json": {
       "model_id": "08843e0445094808969b68d3b0217edd",
       "version_major": 2,
       "version_minor": 0
      },
      "text/plain": [
       "VBox()"
      ]
     },
     "metadata": {},
     "output_type": "display_data"
    },
    {
     "data": {
      "application/vnd.jupyter.widget-view+json": {
       "model_id": "",
       "version_major": 2,
       "version_minor": 0
      },
      "text/plain": [
       "FloatProgress(value=0.0, bar_style='info', description='Progress:', layout=Layout(height='25px', width='50%'),…"
      ]
     },
     "metadata": {},
     "output_type": "display_data"
    },
    {
     "name": "stdout",
     "output_type": "stream",
     "text": [
      "+---+----+-----+--------+-------+-------+----------+------+---+----+------+----------+---------+---------+-----+-----+------+\n",
      "| Id|GADE|Hours|earnings|whyplay|streams|Narcissism|Gender|Age|Work|Degree|Birthplace|Residence|Playstyle|GAD_T|SWL_T|SPIN_T|\n",
      "+---+----+-----+--------+-------+-------+----------+------+---+----+------+----------+---------+---------+-----+-----+------+\n",
      "|  0| 647|   30|       0|      1|    100|        23|     0|  0|  38|  1571|         0|        0|        0|    0|    0|   648|\n",
      "+---+----+-----+--------+-------+-------+----------+------+---+----+------+----------+---------+---------+-----+-----+------+"
     ]
    }
   ],
   "source": [
    "# Count of null values per column\n",
    "from pyspark.sql.functions import col,isnan,when,count\n",
    "null_columns = id_removed.select([count(when(col(c).contains('None') | \\\n",
    "                            col(c).contains('NULL') | \\\n",
    "                            (col(c) == 'NA' ) | \\\n",
    "                            col(c).isNull() | \\\n",
    "                            isnan(c), c \n",
    "                           )).alias(c)\n",
    "                    for c in id_removed.columns])\n",
    "null_columns.show()"
   ]
  },
  {
   "cell_type": "markdown",
   "id": "3ced5a5d",
   "metadata": {},
   "source": [
    "With 13413 records, the highest percentage of null values in a column is Degree at 1571/13413 = 8.5 percent which is very low considering out dataset. We will keep this column as it can still prove useful after replacing missing values."
   ]
  },
  {
   "cell_type": "code",
   "execution_count": 23,
   "id": "0fa75921",
   "metadata": {},
   "outputs": [
    {
     "data": {
      "application/vnd.jupyter.widget-view+json": {
       "model_id": "449ded6503a74048afc19044a5cac725",
       "version_major": 2,
       "version_minor": 0
      },
      "text/plain": [
       "VBox()"
      ]
     },
     "metadata": {},
     "output_type": "display_data"
    },
    {
     "data": {
      "application/vnd.jupyter.widget-view+json": {
       "model_id": "",
       "version_major": 2,
       "version_minor": 0
      },
      "text/plain": [
       "FloatProgress(value=0.0, bar_style='info', description='Progress:', layout=Layout(height='25px', width='50%'),…"
      ]
     },
     "metadata": {},
     "output_type": "display_data"
    },
    {
     "name": "stdout",
     "output_type": "stream",
     "text": [
      "+-----------------+------------------+-----------------+------------------+-----------------+------------------+-----------------+\n",
      "|            Hours|           streams|       Narcissism|               Age|            GAD_T|             SWL_T|           SPIN_T|\n",
      "+-----------------+------------------+-----------------+------------------+-----------------+------------------+-----------------+\n",
      "|22.26563550773369|11.236761060617441|2.027781926811053|20.932155371654364|5.212405874897487|19.784761052710056|19.86478652565609|\n",
      "+-----------------+------------------+-----------------+------------------+-----------------+------------------+-----------------+"
     ]
    }
   ],
   "source": [
    "# Calculate mean of columns in dataset\n",
    "means_df  = id_removed.select(*[fn.mean(c).alias(c) for c in features])\n",
    "means_df.show()"
   ]
  },
  {
   "cell_type": "code",
   "execution_count": 24,
   "id": "22eb286e",
   "metadata": {},
   "outputs": [
    {
     "data": {
      "application/vnd.jupyter.widget-view+json": {
       "model_id": "ca117c1628e64a25bd6ee78669cd0de7",
       "version_major": 2,
       "version_minor": 0
      },
      "text/plain": [
       "VBox()"
      ]
     },
     "metadata": {},
     "output_type": "display_data"
    },
    {
     "data": {
      "application/vnd.jupyter.widget-view+json": {
       "model_id": "",
       "version_major": 2,
       "version_minor": 0
      },
      "text/plain": [
       "FloatProgress(value=0.0, bar_style='info', description='Progress:', layout=Layout(height='25px', width='50%'),…"
      ]
     },
     "metadata": {},
     "output_type": "display_data"
    },
    {
     "name": "stdout",
     "output_type": "stream",
     "text": [
      "{'Hours': 22.26563550773369, 'streams': 11.236761060617441, 'SPIN_T': 19.86478652565609}"
     ]
    }
   ],
   "source": [
    "# Calculate mean of columns with missing values\n",
    "means = (\n",
    "    id_removed\n",
    "    .agg(\n",
    "          fn.mean(\n",
    "              fn.col('Hours') \n",
    "          ).alias('Hours')\n",
    "        , fn.mean(\n",
    "            fn.col('streams')\n",
    "        ).alias('streams')\n",
    "        , fn.mean(\n",
    "            fn.col('SPIN_T')\n",
    "        ).alias('SPIN_T')\n",
    "    )\n",
    ").toPandas().to_dict('records')[0]\n",
    "\n",
    "means"
   ]
  },
  {
   "cell_type": "markdown",
   "id": "902d568a",
   "metadata": {},
   "source": [
    "Calculated means dictionary is consistent with the means of our features (numerical columns). "
   ]
  },
  {
   "cell_type": "code",
   "execution_count": 25,
   "id": "ff584cd6",
   "metadata": {},
   "outputs": [
    {
     "data": {
      "application/vnd.jupyter.widget-view+json": {
       "model_id": "32358e1d255f45c89c6b2aec9ba51f4e",
       "version_major": 2,
       "version_minor": 0
      },
      "text/plain": [
       "VBox()"
      ]
     },
     "metadata": {},
     "output_type": "display_data"
    },
    {
     "data": {
      "application/vnd.jupyter.widget-view+json": {
       "model_id": "",
       "version_major": 2,
       "version_minor": 0
      },
      "text/plain": [
       "FloatProgress(value=0.0, bar_style='info', description='Progress:', layout=Layout(height='25px', width='50%'),…"
      ]
     },
     "metadata": {},
     "output_type": "display_data"
    },
    {
     "name": "stdout",
     "output_type": "stream",
     "text": [
      "+----+--------------------+-----+--------------------+----------+-------+----------+------+---+--------------------+--------------------+-----------+-----------+--------------------+-----+-----+------+\n",
      "|  Id|                GADE|Hours|            earnings|   whyplay|streams|Narcissism|Gender|Age|                Work|              Degree| Birthplace|  Residence|           Playstyle|GAD_T|SWL_T|SPIN_T|\n",
      "+----+--------------------+-----+--------------------+----------+-------+----------+------+---+--------------------+--------------------+-----------+-----------+--------------------+-----+-----+------+\n",
      "|2151|  Somewhat difficult|   45|I play mostly for...| improving|     20|         2|  Male| 18|   Student at school|                None|      Syria|        USA|Multiplayer - onl...|    1|   31|    15|\n",
      "|2660|Not difficult at all|   20|      I play for fun|having fun|      5|         1|  Male| 18|Student at colleg...|High school diplo...|Netherlands|Netherlands|Multiplayer - onl...|    1|   23|     6|\n",
      "|3859|Not difficult at all|    8|      I play for fun|   winning|     50|         2|  Male| 20|            Employed|High school diplo...|     Sweden|     Sweden|Multiplayer - onl...|    2|   23|    11|\n",
      "|5723|      Very difficult|   12|      I play for fun| improving|      4|         1|  Male| 20|Student at colleg...|High school diplo...|         UK|     Canada|Multiplayer - onl...|   13|   14|    31|\n",
      "|6283|Not difficult at all|   15|      I play for fun|having fun|     15|         1|  Male| 24|Unemployed / betw...|Bachelor�(or equi...|  Macedonia|  Macedonia|Multiplayer - onl...|    3|   20|    16|\n",
      "+----+--------------------+-----+--------------------+----------+-------+----------+------+---+--------------------+--------------------+-----------+-----------+--------------------+-----+-----+------+\n",
      "only showing top 5 rows"
     ]
    }
   ],
   "source": [
    "# Replace missing values with mean\n",
    "imputed = (\n",
    "    id_removed\n",
    "    .fillna(means)\n",
    ")\n",
    "\n",
    "imputed.show(5)"
   ]
  },
  {
   "cell_type": "markdown",
   "id": "c84042b3",
   "metadata": {},
   "source": [
    "We have now filled the necessary numerical columns with mean values of their respective columns. This concludes preprocessing for missing numbers."
   ]
  },
  {
   "cell_type": "markdown",
   "id": "1fdae9fb",
   "metadata": {},
   "source": [
    "## Outlier Detection"
   ]
  },
  {
   "cell_type": "code",
   "execution_count": 26,
   "id": "ffec6ed4",
   "metadata": {},
   "outputs": [
    {
     "data": {
      "application/vnd.jupyter.widget-view+json": {
       "model_id": "a6004582f15e4b63baaad9bb414630e9",
       "version_major": 2,
       "version_minor": 0
      },
      "text/plain": [
       "VBox()"
      ]
     },
     "metadata": {},
     "output_type": "display_data"
    },
    {
     "data": {
      "application/vnd.jupyter.widget-view+json": {
       "model_id": "",
       "version_major": 2,
       "version_minor": 0
      },
      "text/plain": [
       "FloatProgress(value=0.0, bar_style='info', description='Progress:', layout=Layout(height='25px', width='50%'),…"
      ]
     },
     "metadata": {},
     "output_type": "display_data"
    },
    {
     "name": "stdout",
     "output_type": "stream",
     "text": [
      "Hours [1.0, 100.0]\n",
      "streams [0.0, 84.0]\n",
      "Narcissism [1.0, 5.0]\n",
      "Age [18.0, 40.0]\n",
      "GAD_T [0.0, 21.0]\n",
      "SWL_T [5.0, 35.0]\n",
      "SPIN_T [0.0, 66.0]\n",
      "+----+-------+---------+------------+-----+-------+-------+--------+\n",
      "|  id|Hours_o|streams_o|Narcissism_o|Age_o|GAD_T_o|SWL_T_o|SPIN_T_o|\n",
      "+----+-------+---------+------------+-----+-------+-------+--------+\n",
      "|2151|  false|    false|       false|false|  false|  false|   false|\n",
      "|2660|  false|    false|       false|false|  false|  false|   false|\n",
      "|3859|  false|    false|       false|false|  false|  false|   false|\n",
      "|5723|  false|    false|       false|false|  false|  false|   false|\n",
      "|6283|  false|    false|       false|false|  false|  false|   false|\n",
      "+----+-------+---------+------------+-----+-------+-------+--------+\n",
      "only showing top 5 rows"
     ]
    }
   ],
   "source": [
    "# We will run the following to determine what values are outliers using a method called approxQuantile\n",
    "# q0 will be .0015 and q1 will be .9985 for standard deviation values\n",
    "quantiles = [0.0015, 0.9985]\n",
    "\n",
    "cut_off_points = []\n",
    "\n",
    "#The third parameter, set to 0.05, is relative target precision to achieve (>= 0).\n",
    "#If set to zero, the exact quantiles are computed, which could be very expensive. \n",
    "for feature in features:\n",
    "    quants = imputed.approxQuantile(feature, quantiles, 0.0)\n",
    "    print(feature, quants)\n",
    "    cut_off_points.append((feature, [\n",
    "        quants[0],\n",
    "        quants[1],\n",
    "    ]))\n",
    "\n",
    "cut_off_points = dict(cut_off_points)\n",
    "\n",
    "outliers = imputed.select(*['id'] + [\n",
    "       (\n",
    "           (imputed[f] < cut_off_points[f][0]) |\n",
    "           (imputed[f] > cut_off_points[f][1])\n",
    "       ).alias(f + '_o') for f in features\n",
    "  ])\n",
    "outliers.show(5)"
   ]
  },
  {
   "cell_type": "markdown",
   "id": "f10fd94a",
   "metadata": {},
   "source": [
    "By using the quantiles of -3 and +3 standard deviations (.15 percent and 99.85 percent) we were able to run outlier detection on our dataset. Now that we have a dictionary of our outliers, it's time to filter them out."
   ]
  },
  {
   "cell_type": "code",
   "execution_count": 27,
   "id": "65f8f190",
   "metadata": {},
   "outputs": [
    {
     "data": {
      "application/vnd.jupyter.widget-view+json": {
       "model_id": "d32b94f8f30949a09061d3d1aa5b3074",
       "version_major": 2,
       "version_minor": 0
      },
      "text/plain": [
       "VBox()"
      ]
     },
     "metadata": {},
     "output_type": "display_data"
    },
    {
     "data": {
      "application/vnd.jupyter.widget-view+json": {
       "model_id": "",
       "version_major": 2,
       "version_minor": 0
      },
      "text/plain": [
       "FloatProgress(value=0.0, bar_style='info', description='Progress:', layout=Layout(height='25px', width='50%'),…"
      ]
     },
     "metadata": {},
     "output_type": "display_data"
    },
    {
     "name": "stdout",
     "output_type": "stream",
     "text": [
      "+-----+-------+----------+---+-----+-----+------+\n",
      "|Hours|streams|Narcissism|Age|GAD_T|SWL_T|SPIN_T|\n",
      "+-----+-------+----------+---+-----+-----+------+\n",
      "|   20|      0|         1| 49|    0|   19|     7|\n",
      "|    0|      0|         4| 32|    8|   17|    31|\n",
      "|    7|      5|         1| 19|   21|    5|    68|\n",
      "|   20|     10|         3| 42|   13|   22|     0|\n",
      "|   40|     20|         5| 19|   21|    5|    68|\n",
      "|    5|      0|         4| 50|    0|   29|     7|\n",
      "|  110|     11|         3| 18|    5|   13|    34|\n",
      "|    8|      2|         1| 41|    8|   16|    33|\n",
      "|    5|      5|         2| 18|   18|   12|    67|\n",
      "|   90|     90|         1| 32|    0|   31|     8|\n",
      "+-----+-------+----------+---+-----+-----+------+\n",
      "only showing top 10 rows"
     ]
    }
   ],
   "source": [
    "# Show the rows containing outliers determined by method above\n",
    "with_outliers_flag = imputed.join(outliers, on='Id')\n",
    "\n",
    "(\n",
    "    with_outliers_flag\n",
    "    .filter('Hours_o OR streams_o OR Narcissism_o OR Age_o OR GAD_T_o OR SWL_T_o OR SPIN_T_o')\n",
    "    .select(features)\n",
    "    .show(10)\n",
    ")"
   ]
  },
  {
   "cell_type": "markdown",
   "id": "fdeb4cbc",
   "metadata": {},
   "source": [
    "The above dataset shows a sample of our outliers. You can see that some were excluded because of values like 0 hours played in a week (most gamers will have played for at least a few hours). "
   ]
  },
  {
   "cell_type": "code",
   "execution_count": 28,
   "id": "d2c9e736",
   "metadata": {},
   "outputs": [
    {
     "data": {
      "application/vnd.jupyter.widget-view+json": {
       "model_id": "6d6991f0f3884bbdba60a814c851430c",
       "version_major": 2,
       "version_minor": 0
      },
      "text/plain": [
       "VBox()"
      ]
     },
     "metadata": {},
     "output_type": "display_data"
    },
    {
     "data": {
      "application/vnd.jupyter.widget-view+json": {
       "model_id": "",
       "version_major": 2,
       "version_minor": 0
      },
      "text/plain": [
       "FloatProgress(value=0.0, bar_style='info', description='Progress:', layout=Layout(height='25px', width='50%'),…"
      ]
     },
     "metadata": {},
     "output_type": "display_data"
    },
    {
     "name": "stdout",
     "output_type": "stream",
     "text": [
      "+----+--------------------+-----+--------------------+----------+-------+----------+------+---+--------------------+--------------------+-----------+-----------+--------------------+-----+-----+------+\n",
      "|  Id|                GADE|Hours|            earnings|   whyplay|streams|Narcissism|Gender|Age|                Work|              Degree| Birthplace|  Residence|           Playstyle|GAD_T|SWL_T|SPIN_T|\n",
      "+----+--------------------+-----+--------------------+----------+-------+----------+------+---+--------------------+--------------------+-----------+-----------+--------------------+-----+-----+------+\n",
      "|2151|  Somewhat difficult|   45|I play mostly for...| improving|     20|         2|  Male| 18|   Student at school|                None|      Syria|        USA|Multiplayer - onl...|    1|   31|    15|\n",
      "|2660|Not difficult at all|   20|      I play for fun|having fun|      5|         1|  Male| 18|Student at colleg...|High school diplo...|Netherlands|Netherlands|Multiplayer - onl...|    1|   23|     6|\n",
      "|3859|Not difficult at all|    8|      I play for fun|   winning|     50|         2|  Male| 20|            Employed|High school diplo...|     Sweden|     Sweden|Multiplayer - onl...|    2|   23|    11|\n",
      "|5723|      Very difficult|   12|      I play for fun| improving|      4|         1|  Male| 20|Student at colleg...|High school diplo...|         UK|     Canada|Multiplayer - onl...|   13|   14|    31|\n",
      "|6283|Not difficult at all|   15|      I play for fun|having fun|     15|         1|  Male| 24|Unemployed / betw...|Bachelor�(or equi...|  Macedonia|  Macedonia|Multiplayer - onl...|    3|   20|    16|\n",
      "+----+--------------------+-----+--------------------+----------+-------+----------+------+---+--------------------+--------------------+-----------+-----------+--------------------+-----+-----+------+\n",
      "only showing top 5 rows"
     ]
    }
   ],
   "source": [
    "# Filter outliers\n",
    "no_outliers = (\n",
    "    with_outliers_flag\n",
    "    .filter('!(Hours_o OR streams_o OR Narcissism_o OR Age_o OR GAD_T_o OR SWL_T_o OR SPIN_T_o)')\n",
    "    .select(imputed.columns)\n",
    ")\n",
    "no_outliers.show(5)"
   ]
  },
  {
   "cell_type": "markdown",
   "id": "0b14493f",
   "metadata": {},
   "source": [
    "The above code filtered out our outliers and now we can begin with descriptive statistics and visualization."
   ]
  },
  {
   "cell_type": "markdown",
   "id": "c24a2447",
   "metadata": {},
   "source": [
    "## Descriptive Statistics and Correlation"
   ]
  },
  {
   "cell_type": "code",
   "execution_count": 29,
   "id": "b895291a",
   "metadata": {},
   "outputs": [
    {
     "data": {
      "application/vnd.jupyter.widget-view+json": {
       "model_id": "a560e8a0757a4238a154046aeaffc47d",
       "version_major": 2,
       "version_minor": 0
      },
      "text/plain": [
       "VBox()"
      ]
     },
     "metadata": {},
     "output_type": "display_data"
    },
    {
     "data": {
      "application/vnd.jupyter.widget-view+json": {
       "model_id": "",
       "version_major": 2,
       "version_minor": 0
      },
      "text/plain": [
       "FloatProgress(value=0.0, bar_style='info', description='Progress:', layout=Layout(height='25px', width='50%'),…"
      ]
     },
     "metadata": {},
     "output_type": "display_data"
    },
    {
     "name": "stdout",
     "output_type": "stream",
     "text": [
      "+-------+------------------+------------------+------------------+------------------+-----------------+-----------------+------------------+\n",
      "|summary|             Hours|           streams|        Narcissism|               Age|            GAD_T|            SWL_T|            SPIN_T|\n",
      "+-------+------------------+------------------+------------------+------------------+-----------------+-----------------+------------------+\n",
      "|  count|             13316|             13316|             13316|             13316|            13316|            13316|             13316|\n",
      "|   mean|21.541604085310905|10.416416341243616|2.0257584860318416|20.903724842294984|5.199909882847702|19.79197957344548|19.757284469810752|\n",
      "| stddev|13.350420132419409| 9.798595052019003|1.0590583408054162| 3.171651743794477|4.693359775002196|7.214485488069295|13.026555226707462|\n",
      "|    min|                 1|                 0|                 1|                18|                0|                5|                 0|\n",
      "|    max|               100|                84|                 5|                40|               21|               35|                66|\n",
      "+-------+------------------+------------------+------------------+------------------+-----------------+-----------------+------------------+"
     ]
    }
   ],
   "source": [
    "#describe numeric features\n",
    "descriptive_stats = no_outliers.describe(features)\n",
    "descriptive_stats.show()"
   ]
  },
  {
   "cell_type": "markdown",
   "id": "c1b4a59a",
   "metadata": {},
   "source": [
    "A simple descriptive statistics shows that everything is looking better and no longer are standard deviation values higher than means. Descriptive statistics is a good way of describing the distribution of your data -- the count, mean, standard deviation, min, and max. Without any visuals, we can still get a good sense of our data. "
   ]
  },
  {
   "cell_type": "code",
   "execution_count": 30,
   "id": "750a1236",
   "metadata": {},
   "outputs": [
    {
     "data": {
      "application/vnd.jupyter.widget-view+json": {
       "model_id": "e1745f90f3ec48af9921fc6e4c59209f",
       "version_major": 2,
       "version_minor": 0
      },
      "text/plain": [
       "VBox()"
      ]
     },
     "metadata": {},
     "output_type": "display_data"
    },
    {
     "data": {
      "application/vnd.jupyter.widget-view+json": {
       "model_id": "",
       "version_major": 2,
       "version_minor": 0
      },
      "text/plain": [
       "FloatProgress(value=0.0, bar_style='info', description='Progress:', layout=Layout(height='25px', width='50%'),…"
      ]
     },
     "metadata": {},
     "output_type": "display_data"
    },
    {
     "name": "stdout",
     "output_type": "stream",
     "text": [
      "+----------+-----+-------------------+--------------------+--------------------+--------------------+--------------------+--------------------+\n",
      "|    Column|Hours|            streams|          Narcissism|                 Age|               GAD_T|               SWL_T|              SPIN_T|\n",
      "+----------+-----+-------------------+--------------------+--------------------+--------------------+--------------------+--------------------+\n",
      "|     Hours|  1.0|0.13555972013882575| 0.05907406084779445|-0.09125767122878367| 0.09334131737312543|-0.13406787826377756|  0.0954954960948859|\n",
      "|   streams| null|                1.0|0.029637869679591037|0.017858496711443458| 0.06919664022349958| -0.0688039608000826| 0.07563512350445188|\n",
      "|Narcissism| null|               null|                 1.0|-0.03722732667280536| 0.07789688094996974|-0.01274547447186...|-0.00742954141877...|\n",
      "|       Age| null|               null|                null|                 1.0|-0.04018460992047...|0.001094023105705...|-0.10343800705745103|\n",
      "|     GAD_T| null|               null|                null|                null|                 1.0| -0.4040500375565299| 0.43653611797719705|\n",
      "|     SWL_T| null|               null|                null|                null|                null|                 1.0| -0.3103485968869724|\n",
      "|    SPIN_T| null|               null|                null|                null|                null|                null|                 1.0|\n",
      "+----------+-----+-------------------+--------------------+--------------------+--------------------+--------------------+--------------------+"
     ]
    }
   ],
   "source": [
    "#create correlations table\n",
    "n_features = len(features)\n",
    "\n",
    "corr = []\n",
    "\n",
    "for i in range(0, n_features):\n",
    "    temp = [None] * i\n",
    "\n",
    "    for j in range(i, n_features):\n",
    "        temp.append(no_outliers.corr(features[i], features[j]))\n",
    "    corr.append([features[i]] + temp)\n",
    "\n",
    "correlations = spark.createDataFrame(corr, ['Column'] + features)\n",
    "\n",
    "correlations.show()"
   ]
  },
  {
   "cell_type": "markdown",
   "id": "5d1de02b",
   "metadata": {},
   "source": [
    "By calculating correlations, we can detect any colinearity between our variables. Our variables should be independent of eachother or they might not be able to accurately and independently predict the value of our dependent variable. This will decrease their statistical significance, and we should avoid that at all costs. Fortunately, the above output shows that no one variable is highly correlated with any other."
   ]
  },
  {
   "cell_type": "markdown",
   "id": "ada6cce2",
   "metadata": {},
   "source": [
    "## Visualization"
   ]
  },
  {
   "cell_type": "code",
   "execution_count": 31,
   "id": "05705ca0",
   "metadata": {},
   "outputs": [
    {
     "data": {
      "application/vnd.jupyter.widget-view+json": {
       "model_id": "d0fcbe8502414af89a0d26d98d519d7f",
       "version_major": 2,
       "version_minor": 0
      },
      "text/plain": [
       "VBox()"
      ]
     },
     "metadata": {},
     "output_type": "display_data"
    },
    {
     "data": {
      "application/vnd.jupyter.widget-view+json": {
       "model_id": "",
       "version_major": 2,
       "version_minor": 0
      },
      "text/plain": [
       "FloatProgress(value=0.0, bar_style='info', description='Progress:', layout=Layout(height='25px', width='50%'),…"
      ]
     },
     "metadata": {},
     "output_type": "display_data"
    }
   ],
   "source": [
    "# Generate bins and count of each bin\n",
    "histogram_HRS = (\n",
    "    no_outliers\n",
    "    .select('Hours')\n",
    "    .rdd\n",
    "    .flatMap(lambda record: record)\n",
    "    .histogram(5)\n",
    ")"
   ]
  },
  {
   "cell_type": "code",
   "execution_count": 32,
   "id": "5f753470",
   "metadata": {},
   "outputs": [
    {
     "data": {
      "application/vnd.jupyter.widget-view+json": {
       "model_id": "a2fa9b4d78a6412bb6892a4296a84115",
       "version_major": 2,
       "version_minor": 0
      },
      "text/plain": [
       "VBox()"
      ]
     },
     "metadata": {},
     "output_type": "display_data"
    },
    {
     "data": {
      "application/vnd.jupyter.widget-view+json": {
       "model_id": "",
       "version_major": 2,
       "version_minor": 0
      },
      "text/plain": [
       "FloatProgress(value=0.0, bar_style='info', description='Progress:', layout=Layout(height='25px', width='50%'),…"
      ]
     },
     "metadata": {},
     "output_type": "display_data"
    },
    {
     "name": "stdout",
     "output_type": "stream",
     "text": [
      "[1.0, 20.8, 40.6, 60.400000000000006, 80.2, 100]\n",
      "[8234, 4181, 701, 165, 35]\n",
      "([1.0, 20.8, 40.6, 60.400000000000006, 80.2, 100], [8234, 4181, 701, 165, 35])"
     ]
    }
   ],
   "source": [
    "#.histogram() generates two arrays: \n",
    "#1) list of bin bounds, \n",
    "#2) count of elements in corresponding bin\n",
    "for i in histogram_HRS:\n",
    "    print(i)\n",
    "    \n",
    "histogram_HRS"
   ]
  },
  {
   "cell_type": "markdown",
   "id": "61117ea0",
   "metadata": {},
   "source": [
    "This shows us how our generated bins and count of bins are created -- a tuple of lists (cut-off points and frequencies)."
   ]
  },
  {
   "cell_type": "code",
   "execution_count": 33,
   "id": "0c72c055",
   "metadata": {},
   "outputs": [
    {
     "data": {
      "application/vnd.jupyter.widget-view+json": {
       "model_id": "446317e4d7ed452fa628990fbcd1a541",
       "version_major": 2,
       "version_minor": 0
      },
      "text/plain": [
       "VBox()"
      ]
     },
     "metadata": {},
     "output_type": "display_data"
    },
    {
     "data": {
      "application/vnd.jupyter.widget-view+json": {
       "model_id": "",
       "version_major": 2,
       "version_minor": 0
      },
      "text/plain": [
       "FloatProgress(value=0.0, bar_style='info', description='Progress:', layout=Layout(height='25px', width='50%'),…"
      ]
     },
     "metadata": {},
     "output_type": "display_data"
    },
    {
     "name": "stdout",
     "output_type": "stream",
     "text": [
      "[(1.0, 8234), (20.8, 4181), (40.6, 701), (60.400000000000006, 165), (80.2, 35)]"
     ]
    }
   ],
   "source": [
    "#symbol * unpacks histogram_MPG and passes the two compoonents to zip as parameters\n",
    "#zip(*histogram_HRS) = zip(histogram_HRS[0], histogram_HRS[1])\n",
    "sorted(zip(*histogram_HRS))"
   ]
  },
  {
   "cell_type": "markdown",
   "id": "27857eb9",
   "metadata": {},
   "source": [
    "By zipping the two, the tuples have been unpacked and are now associated with eachother (bin and freqeuncy). Now that we have shown how this process is carried, we can create histograms for our columns. "
   ]
  },
  {
   "cell_type": "code",
   "execution_count": 34,
   "id": "26596f88",
   "metadata": {},
   "outputs": [
    {
     "data": {
      "application/vnd.jupyter.widget-view+json": {
       "model_id": "",
       "version_major": 2,
       "version_minor": 0
      },
      "text/plain": [
       "FloatProgress(value=0.0, bar_style='info', description='Progress:', layout=Layout(height='25px', width='50%'),…"
      ]
     },
     "metadata": {},
     "output_type": "display_data"
    },
    {
     "data": {
      "application/vnd.jupyter.widget-view+json": {
       "model_id": "",
       "version_major": 2,
       "version_minor": 0
      },
      "text/plain": [
       "FloatProgress(value=0.0, bar_style='info', description='Progress:', layout=Layout(height='25px', width='50%'),…"
      ]
     },
     "metadata": {},
     "output_type": "display_data"
    }
   ],
   "source": [
    "%%spark -o hist_HRS \n",
    "#The above Spark magic exports histogram to local node running the notebook\n",
    "#So that we can use the local object to draw a histogram\n",
    "import pandas as pd\n",
    "hist_HRS =  spark.createDataFrame(\n",
    "    list(zip(*histogram_HRS)), \n",
    "    ['bins', 'counts'])"
   ]
  },
  {
   "cell_type": "code",
   "execution_count": 35,
   "id": "979a17ad",
   "metadata": {},
   "outputs": [
    {
     "data": {
      "application/vnd.jupyter.widget-view+json": {
       "model_id": "b98d00e04d0747618c207c4ce5f6c367",
       "version_major": 2,
       "version_minor": 0
      },
      "text/plain": [
       "VBox()"
      ]
     },
     "metadata": {},
     "output_type": "display_data"
    },
    {
     "data": {
      "application/vnd.jupyter.widget-view+json": {
       "model_id": "",
       "version_major": 2,
       "version_minor": 0
      },
      "text/plain": [
       "FloatProgress(value=0.0, bar_style='info', description='Progress:', layout=Layout(height='25px', width='50%'),…"
      ]
     },
     "metadata": {},
     "output_type": "display_data"
    },
    {
     "data": {
      "image/png": "[encoded data removed]",
      "text/plain": [
       "<IPython.core.display.Image object>"
      ]
     },
     "metadata": {},
     "output_type": "display_data"
    }
   ],
   "source": [
    "#draw histogram\n",
    "#%matplotlib inline\n",
    "import matplotlib\n",
    "import matplotlib.pyplot as plt\n",
    "\n",
    "#IMPORTANT NOTE: If you have a large dataset use a smaller fraction otherwise you may crash your master node when convert Spark df to Pandas df\n",
    "hist_HRS = hist_HRS.sample(fraction=.70).toPandas()\n",
    "hist_HRS.set_index('bins'\n",
    "            ).plot(kind='bar')\n",
    "plt.show()\n",
    "%matplot plt"
   ]
  },
  {
   "cell_type": "markdown",
   "id": "d1170e25",
   "metadata": {},
   "source": [
    "The histogram for Hours shows that a huge proportion of hours played is under the 20.8 hour mark -- around 3 hours per day. Notice how it is much different than the first time we drew our hours histogram; the data is a lot cleaner after preprocessing."
   ]
  },
  {
   "cell_type": "code",
   "execution_count": 36,
   "id": "70085c65",
   "metadata": {},
   "outputs": [
    {
     "data": {
      "application/vnd.jupyter.widget-view+json": {
       "model_id": "0de280024c6b4ad1ade6d7d457748c54",
       "version_major": 2,
       "version_minor": 0
      },
      "text/plain": [
       "VBox()"
      ]
     },
     "metadata": {},
     "output_type": "display_data"
    },
    {
     "data": {
      "application/vnd.jupyter.widget-view+json": {
       "model_id": "",
       "version_major": 2,
       "version_minor": 0
      },
      "text/plain": [
       "FloatProgress(value=0.0, bar_style='info', description='Progress:', layout=Layout(height='25px', width='50%'),…"
      ]
     },
     "metadata": {},
     "output_type": "display_data"
    }
   ],
   "source": [
    "#generate bins and counts for age\n",
    "histogram_AGE = (\n",
    "    no_outliers\n",
    "    .select('Age')\n",
    "    .rdd\n",
    "    .flatMap(lambda record: record)\n",
    "    .histogram(5)\n",
    ")"
   ]
  },
  {
   "cell_type": "code",
   "execution_count": 37,
   "id": "02b6b9a7",
   "metadata": {},
   "outputs": [
    {
     "data": {
      "application/vnd.jupyter.widget-view+json": {
       "model_id": "",
       "version_major": 2,
       "version_minor": 0
      },
      "text/plain": [
       "FloatProgress(value=0.0, bar_style='info', description='Progress:', layout=Layout(height='25px', width='50%'),…"
      ]
     },
     "metadata": {},
     "output_type": "display_data"
    },
    {
     "data": {
      "application/vnd.jupyter.widget-view+json": {
       "model_id": "",
       "version_major": 2,
       "version_minor": 0
      },
      "text/plain": [
       "FloatProgress(value=0.0, bar_style='info', description='Progress:', layout=Layout(height='25px', width='50%'),…"
      ]
     },
     "metadata": {},
     "output_type": "display_data"
    }
   ],
   "source": [
    "%%spark -o hist_AGE \n",
    "#The above Spark magic exports histogram to local node running the notebook\n",
    "#So that we can use the local object to draw a histogram\n",
    "import pandas as pd\n",
    "hist_AGE =  spark.createDataFrame(\n",
    "    list(zip(*histogram_AGE)), \n",
    "    ['bins', 'counts'])"
   ]
  },
  {
   "cell_type": "code",
   "execution_count": 38,
   "id": "f40b8cfb",
   "metadata": {},
   "outputs": [
    {
     "data": {
      "application/vnd.jupyter.widget-view+json": {
       "model_id": "0b38af4521aa420e88f7dd5d511981be",
       "version_major": 2,
       "version_minor": 0
      },
      "text/plain": [
       "VBox()"
      ]
     },
     "metadata": {},
     "output_type": "display_data"
    },
    {
     "data": {
      "application/vnd.jupyter.widget-view+json": {
       "model_id": "",
       "version_major": 2,
       "version_minor": 0
      },
      "text/plain": [
       "FloatProgress(value=0.0, bar_style='info', description='Progress:', layout=Layout(height='25px', width='50%'),…"
      ]
     },
     "metadata": {},
     "output_type": "display_data"
    },
    {
     "data": {
      "image/png": "[encoded data removed]",
      "text/plain": [
       "<IPython.core.display.Image object>"
      ]
     },
     "metadata": {},
     "output_type": "display_data"
    }
   ],
   "source": [
    "#draw histogram\n",
    "#%matplotlib inline\n",
    "import matplotlib\n",
    "import matplotlib.pyplot as plt\n",
    "\n",
    "#IMPORTANT NOTE: If you have a large dataset use a smaller fraction otherwise you may crash your master node when convert Spark df to Pandas df\n",
    "hist_AGE = hist_AGE.sample(fraction=.70).toPandas()\n",
    "hist_AGE.set_index('bins'\n",
    "            ).plot(kind='bar')\n",
    "plt.show()\n",
    "%matplot plt"
   ]
  },
  {
   "cell_type": "markdown",
   "id": "b70a1af4",
   "metadata": {},
   "source": [
    "Histogram of age. An incredible amount of our dataset is in their 20s, which is something to take note of when looking at statistics for mental illness."
   ]
  },
  {
   "cell_type": "code",
   "execution_count": 39,
   "id": "84b0af06",
   "metadata": {},
   "outputs": [
    {
     "data": {
      "application/vnd.jupyter.widget-view+json": {
       "model_id": "0f3256af926d4098b22419f917c20fd9",
       "version_major": 2,
       "version_minor": 0
      },
      "text/plain": [
       "VBox()"
      ]
     },
     "metadata": {},
     "output_type": "display_data"
    },
    {
     "data": {
      "application/vnd.jupyter.widget-view+json": {
       "model_id": "",
       "version_major": 2,
       "version_minor": 0
      },
      "text/plain": [
       "FloatProgress(value=0.0, bar_style='info', description='Progress:', layout=Layout(height='25px', width='50%'),…"
      ]
     },
     "metadata": {},
     "output_type": "display_data"
    }
   ],
   "source": [
    "# generate histogram for gad7\n",
    "histogram_GAD = (\n",
    "    no_outliers\n",
    "    .select('GAD_T')\n",
    "    .rdd\n",
    "    .flatMap(lambda record: record)\n",
    "    .histogram(5)\n",
    ")"
   ]
  },
  {
   "cell_type": "code",
   "execution_count": 40,
   "id": "74641310",
   "metadata": {},
   "outputs": [
    {
     "data": {
      "application/vnd.jupyter.widget-view+json": {
       "model_id": "",
       "version_major": 2,
       "version_minor": 0
      },
      "text/plain": [
       "FloatProgress(value=0.0, bar_style='info', description='Progress:', layout=Layout(height='25px', width='50%'),…"
      ]
     },
     "metadata": {},
     "output_type": "display_data"
    },
    {
     "data": {
      "application/vnd.jupyter.widget-view+json": {
       "model_id": "",
       "version_major": 2,
       "version_minor": 0
      },
      "text/plain": [
       "FloatProgress(value=0.0, bar_style='info', description='Progress:', layout=Layout(height='25px', width='50%'),…"
      ]
     },
     "metadata": {},
     "output_type": "display_data"
    }
   ],
   "source": [
    "%%spark -o hist_GAD \n",
    "#The above Spark magic exports histogram to local node running the notebook\n",
    "#So that we can use the local object to draw a histogram\n",
    "import pandas as pd\n",
    "hist_GAD =  spark.createDataFrame(\n",
    "    list(zip(*histogram_GAD)), \n",
    "    ['bins', 'counts'])"
   ]
  },
  {
   "cell_type": "code",
   "execution_count": 41,
   "id": "a48fd609",
   "metadata": {},
   "outputs": [
    {
     "data": {
      "application/vnd.jupyter.widget-view+json": {
       "model_id": "ae1e8f42196e4abaa6a833c0b0aeb939",
       "version_major": 2,
       "version_minor": 0
      },
      "text/plain": [
       "VBox()"
      ]
     },
     "metadata": {},
     "output_type": "display_data"
    },
    {
     "data": {
      "application/vnd.jupyter.widget-view+json": {
       "model_id": "",
       "version_major": 2,
       "version_minor": 0
      },
      "text/plain": [
       "FloatProgress(value=0.0, bar_style='info', description='Progress:', layout=Layout(height='25px', width='50%'),…"
      ]
     },
     "metadata": {},
     "output_type": "display_data"
    },
    {
     "data": {
      "image/png": "[encoded data removed]",
      "text/plain": [
       "<IPython.core.display.Image object>"
      ]
     },
     "metadata": {},
     "output_type": "display_data"
    }
   ],
   "source": [
    "# draw histogram\n",
    "#%matplotlib inline\n",
    "import matplotlib\n",
    "import matplotlib.pyplot as plt\n",
    "\n",
    "#IMPORTANT NOTE: If you have a large dataset use a smaller fraction otherwise you may crash your master node when convert Spark df to Pandas df\n",
    "hist_GAD = hist_GAD.sample(fraction=.75).toPandas()\n",
    "hist_GAD.set_index('bins'\n",
    "            ).plot(kind='bar')\n",
    "plt.show()\n",
    "%matplot plt"
   ]
  },
  {
   "cell_type": "markdown",
   "id": "03b2dd32",
   "metadata": {},
   "source": [
    "Histogram for GAD7 personality questionnaire. It's a relief to see how many of records show lower scores on this test (the lower the score the lower the anxiety severity). "
   ]
  },
  {
   "cell_type": "code",
   "execution_count": 42,
   "id": "6c224734",
   "metadata": {},
   "outputs": [
    {
     "data": {
      "application/vnd.jupyter.widget-view+json": {
       "model_id": "838ee9f40a1c47f69bb2670841f4dbd9",
       "version_major": 2,
       "version_minor": 0
      },
      "text/plain": [
       "VBox()"
      ]
     },
     "metadata": {},
     "output_type": "display_data"
    },
    {
     "data": {
      "application/vnd.jupyter.widget-view+json": {
       "model_id": "",
       "version_major": 2,
       "version_minor": 0
      },
      "text/plain": [
       "FloatProgress(value=0.0, bar_style='info', description='Progress:', layout=Layout(height='25px', width='50%'),…"
      ]
     },
     "metadata": {},
     "output_type": "display_data"
    }
   ],
   "source": [
    "# generate histogram for SWL\n",
    "histogram_SWL = (\n",
    "    no_outliers\n",
    "    .select('SWL_T')\n",
    "    .rdd\n",
    "    .flatMap(lambda record: record)\n",
    "    .histogram(5)\n",
    ")"
   ]
  },
  {
   "cell_type": "code",
   "execution_count": 43,
   "id": "174bb5db",
   "metadata": {},
   "outputs": [
    {
     "data": {
      "application/vnd.jupyter.widget-view+json": {
       "model_id": "",
       "version_major": 2,
       "version_minor": 0
      },
      "text/plain": [
       "FloatProgress(value=0.0, bar_style='info', description='Progress:', layout=Layout(height='25px', width='50%'),…"
      ]
     },
     "metadata": {},
     "output_type": "display_data"
    },
    {
     "data": {
      "application/vnd.jupyter.widget-view+json": {
       "model_id": "",
       "version_major": 2,
       "version_minor": 0
      },
      "text/plain": [
       "FloatProgress(value=0.0, bar_style='info', description='Progress:', layout=Layout(height='25px', width='50%'),…"
      ]
     },
     "metadata": {},
     "output_type": "display_data"
    }
   ],
   "source": [
    "%%spark -o hist_SWL \n",
    "#The above Spark magic exports histogram to local node running the notebook\n",
    "#So that we can use the local object to draw a histogram\n",
    "import pandas as pd\n",
    "hist_SWL =  spark.createDataFrame(\n",
    "    list(zip(*histogram_SWL)), \n",
    "    ['bins', 'counts'])"
   ]
  },
  {
   "cell_type": "code",
   "execution_count": 44,
   "id": "c2ce5899",
   "metadata": {},
   "outputs": [
    {
     "data": {
      "application/vnd.jupyter.widget-view+json": {
       "model_id": "06cf46a307b74a39955638716d687b08",
       "version_major": 2,
       "version_minor": 0
      },
      "text/plain": [
       "VBox()"
      ]
     },
     "metadata": {},
     "output_type": "display_data"
    },
    {
     "data": {
      "application/vnd.jupyter.widget-view+json": {
       "model_id": "",
       "version_major": 2,
       "version_minor": 0
      },
      "text/plain": [
       "FloatProgress(value=0.0, bar_style='info', description='Progress:', layout=Layout(height='25px', width='50%'),…"
      ]
     },
     "metadata": {},
     "output_type": "display_data"
    },
    {
     "data": {
      "image/png": "[encoded data removed]",
      "text/plain": [
       "<IPython.core.display.Image object>"
      ]
     },
     "metadata": {},
     "output_type": "display_data"
    }
   ],
   "source": [
    "# draw histogram\n",
    "#%matplotlib inline\n",
    "import matplotlib\n",
    "import matplotlib.pyplot as plt\n",
    "\n",
    "#IMPORTANT NOTE: If you have a large dataset use a smaller fraction otherwise you may crash your master node when convert Spark df to Pandas df\n",
    "hist_SWL = hist_SWL.sample(fraction=.75).toPandas()\n",
    "hist_SWL.set_index('bins'\n",
    "            ).plot(kind='bar')\n",
    "plt.show()\n",
    "%matplot plt"
   ]
  },
  {
   "cell_type": "markdown",
   "id": "55a6afcd",
   "metadata": {},
   "source": [
    "The Satisfaction With Life Scale -- the higher the score the more satisfied you are with where you are in life. The data for SWL seems to be much more normally distributed than other columns."
   ]
  },
  {
   "cell_type": "code",
   "execution_count": 45,
   "id": "cf44babf",
   "metadata": {},
   "outputs": [
    {
     "data": {
      "application/vnd.jupyter.widget-view+json": {
       "model_id": "89cb697e6fd64c6c899593898f99b611",
       "version_major": 2,
       "version_minor": 0
      },
      "text/plain": [
       "VBox()"
      ]
     },
     "metadata": {},
     "output_type": "display_data"
    },
    {
     "data": {
      "application/vnd.jupyter.widget-view+json": {
       "model_id": "",
       "version_major": 2,
       "version_minor": 0
      },
      "text/plain": [
       "FloatProgress(value=0.0, bar_style='info', description='Progress:', layout=Layout(height='25px', width='50%'),…"
      ]
     },
     "metadata": {},
     "output_type": "display_data"
    }
   ],
   "source": [
    "# generate histogram for SPIN\n",
    "histogram_SPIN = (\n",
    "    no_outliers\n",
    "    .select('SPIN_T')\n",
    "    .rdd\n",
    "    .flatMap(lambda record: record)\n",
    "    .histogram(5)\n",
    ")"
   ]
  },
  {
   "cell_type": "code",
   "execution_count": 46,
   "id": "fcbcfb67",
   "metadata": {},
   "outputs": [
    {
     "data": {
      "application/vnd.jupyter.widget-view+json": {
       "model_id": "",
       "version_major": 2,
       "version_minor": 0
      },
      "text/plain": [
       "FloatProgress(value=0.0, bar_style='info', description='Progress:', layout=Layout(height='25px', width='50%'),…"
      ]
     },
     "metadata": {},
     "output_type": "display_data"
    },
    {
     "data": {
      "application/vnd.jupyter.widget-view+json": {
       "model_id": "",
       "version_major": 2,
       "version_minor": 0
      },
      "text/plain": [
       "FloatProgress(value=0.0, bar_style='info', description='Progress:', layout=Layout(height='25px', width='50%'),…"
      ]
     },
     "metadata": {},
     "output_type": "display_data"
    }
   ],
   "source": [
    "%%spark -o hist_SPIN \n",
    "#The above Spark magic exports histogram to local node running the notebook\n",
    "#So that we can use the local object to draw a histogram\n",
    "import pandas as pd\n",
    "hist_SPIN =  spark.createDataFrame(\n",
    "    list(zip(*histogram_SPIN)), \n",
    "    ['bins', 'counts'])"
   ]
  },
  {
   "cell_type": "code",
   "execution_count": 47,
   "id": "2b649622",
   "metadata": {},
   "outputs": [
    {
     "data": {
      "application/vnd.jupyter.widget-view+json": {
       "model_id": "46d4ad936ce5462a8b9c701064210b16",
       "version_major": 2,
       "version_minor": 0
      },
      "text/plain": [
       "VBox()"
      ]
     },
     "metadata": {},
     "output_type": "display_data"
    },
    {
     "data": {
      "application/vnd.jupyter.widget-view+json": {
       "model_id": "",
       "version_major": 2,
       "version_minor": 0
      },
      "text/plain": [
       "FloatProgress(value=0.0, bar_style='info', description='Progress:', layout=Layout(height='25px', width='50%'),…"
      ]
     },
     "metadata": {},
     "output_type": "display_data"
    },
    {
     "data": {
      "image/png": "[encoded data removed]",
      "text/plain": [
       "<IPython.core.display.Image object>"
      ]
     },
     "metadata": {},
     "output_type": "display_data"
    }
   ],
   "source": [
    "# draw histogram\n",
    "#%matplotlib inline\n",
    "import matplotlib\n",
    "import matplotlib.pyplot as plt\n",
    "\n",
    "#IMPORTANT NOTE: If you have a large dataset use a smaller fraction otherwise you may crash your master node when convert Spark df to Pandas df\n",
    "hist_SPIN = hist_SPIN.sample(fraction=.75).toPandas()\n",
    "hist_SPIN.set_index('bins'\n",
    "            ).plot(kind='bar')\n",
    "plt.show()\n",
    "%matplot plt"
   ]
  },
  {
   "cell_type": "markdown",
   "id": "9eb01d9c",
   "metadata": {},
   "source": [
    "The Social Phobia Inventory. Our records show that most gamers scored under 26.4 (mild anxiety according to SPIN scale)."
   ]
  },
  {
   "cell_type": "code",
   "execution_count": 48,
   "id": "2bae0a8d",
   "metadata": {},
   "outputs": [
    {
     "data": {
      "application/vnd.jupyter.widget-view+json": {
       "model_id": "",
       "version_major": 2,
       "version_minor": 0
      },
      "text/plain": [
       "FloatProgress(value=0.0, bar_style='info', description='Progress:', layout=Layout(height='25px', width='50%'),…"
      ]
     },
     "metadata": {},
     "output_type": "display_data"
    },
    {
     "data": {
      "application/vnd.jupyter.widget-view+json": {
       "model_id": "",
       "version_major": 2,
       "version_minor": 0
      },
      "text/plain": [
       "FloatProgress(value=0.0, bar_style='info', description='Progress:', layout=Layout(height='25px', width='50%'),…"
      ]
     },
     "metadata": {},
     "output_type": "display_data"
    }
   ],
   "source": [
    "%%spark -o scatter\n",
    "#spark magic moves dataframe to local\n",
    "#By default it gets a sample of 2500 but you can change it\n",
    "scatter = (\n",
    "    no_outliers\n",
    "    .select('Hours', 'GAD_T')\n",
    ")"
   ]
  },
  {
   "cell_type": "code",
   "execution_count": 49,
   "id": "80ec2b4a",
   "metadata": {},
   "outputs": [
    {
     "data": {
      "application/vnd.jupyter.widget-view+json": {
       "model_id": "32e678d24cc3461cae30000119246228",
       "version_major": 2,
       "version_minor": 0
      },
      "text/plain": [
       "VBox()"
      ]
     },
     "metadata": {},
     "output_type": "display_data"
    },
    {
     "data": {
      "application/vnd.jupyter.widget-view+json": {
       "model_id": "",
       "version_major": 2,
       "version_minor": 0
      },
      "text/plain": [
       "FloatProgress(value=0.0, bar_style='info', description='Progress:', layout=Layout(height='25px', width='50%'),…"
      ]
     },
     "metadata": {},
     "output_type": "display_data"
    },
    {
     "data": {
      "image/png": "[encoded data removed]",
      "text/plain": [
       "<IPython.core.display.Image object>"
      ]
     },
     "metadata": {},
     "output_type": "display_data"
    }
   ],
   "source": [
    "# draw scatter plot\n",
    "#%matplotlib inline\n",
    "import matplotlib.pyplot as plt\n",
    "\n",
    "#Note: If you have a large dataset use a smaller fraction otherwise you may crash your master node when convert Spark df to Pandas df\n",
    "scatter = scatter.sample(fraction=.75).toPandas()\n",
    "plt.clf()\n",
    "plt.scatter( list(scatter['Hours'])\n",
    "         , list(scatter['GAD_T']), \n",
    "            label=\"Relationship between hours and GAD7\")\n",
    "plt.xlabel(\"Hours\")\n",
    "plt.ylabel(\"GAD_T\")\n",
    "plt.legend(loc='upper left')\n",
    "plt.show()\n",
    "%matplot plt"
   ]
  },
  {
   "cell_type": "markdown",
   "id": "c6b5d4b9",
   "metadata": {},
   "source": [
    "The relationship between hours and GAD7 scores looks randomly distributed, so we can infer there is no significant relationship between the two variables."
   ]
  },
  {
   "cell_type": "code",
   "execution_count": 50,
   "id": "e18f372c",
   "metadata": {},
   "outputs": [
    {
     "data": {
      "application/vnd.jupyter.widget-view+json": {
       "model_id": "",
       "version_major": 2,
       "version_minor": 0
      },
      "text/plain": [
       "FloatProgress(value=0.0, bar_style='info', description='Progress:', layout=Layout(height='25px', width='50%'),…"
      ]
     },
     "metadata": {},
     "output_type": "display_data"
    },
    {
     "data": {
      "application/vnd.jupyter.widget-view+json": {
       "model_id": "",
       "version_major": 2,
       "version_minor": 0
      },
      "text/plain": [
       "FloatProgress(value=0.0, bar_style='info', description='Progress:', layout=Layout(height='25px', width='50%'),…"
      ]
     },
     "metadata": {},
     "output_type": "display_data"
    }
   ],
   "source": [
    "%%spark -o scatter\n",
    "#spark magic moves dataframe to local\n",
    "#By default it gets a sample of 2500 but you can change it\n",
    "scatter = (\n",
    "    no_outliers\n",
    "    .select('Hours', 'SWL_T')\n",
    ")"
   ]
  },
  {
   "cell_type": "code",
   "execution_count": 51,
   "id": "c9b82ea4",
   "metadata": {},
   "outputs": [
    {
     "data": {
      "application/vnd.jupyter.widget-view+json": {
       "model_id": "e9c593edd41b47fb9a5bec91667c1e06",
       "version_major": 2,
       "version_minor": 0
      },
      "text/plain": [
       "VBox()"
      ]
     },
     "metadata": {},
     "output_type": "display_data"
    },
    {
     "data": {
      "application/vnd.jupyter.widget-view+json": {
       "model_id": "",
       "version_major": 2,
       "version_minor": 0
      },
      "text/plain": [
       "FloatProgress(value=0.0, bar_style='info', description='Progress:', layout=Layout(height='25px', width='50%'),…"
      ]
     },
     "metadata": {},
     "output_type": "display_data"
    },
    {
     "data": {
      "image/png": "[encoded data removed]",
      "text/plain": [
       "<IPython.core.display.Image object>"
      ]
     },
     "metadata": {},
     "output_type": "display_data"
    }
   ],
   "source": [
    "# draw scatter plot\n",
    "#%matplotlib inline\n",
    "import matplotlib.pyplot as plt\n",
    "\n",
    "#Note: If you have a large dataset use a smaller fraction otherwise you may crash your master node when convert Spark df to Pandas df\n",
    "scatter = scatter.sample(fraction=.75).toPandas()\n",
    "plt.clf()\n",
    "plt.scatter( list(scatter['Hours'])\n",
    "         , list(scatter['SWL_T']), \n",
    "            label=\"Relationship between hours and SWL\")\n",
    "plt.xlabel(\"Hours\")\n",
    "plt.ylabel(\"SWL_T\")\n",
    "plt.legend(loc='upper left')\n",
    "plt.show()\n",
    "%matplot plt"
   ]
  },
  {
   "cell_type": "markdown",
   "id": "e7751763",
   "metadata": {},
   "source": [
    "The relationship between hours and SWL scores looks a bit more negatively related, but not enough to say it is significant."
   ]
  },
  {
   "cell_type": "code",
   "execution_count": 52,
   "id": "416390a6",
   "metadata": {},
   "outputs": [
    {
     "data": {
      "application/vnd.jupyter.widget-view+json": {
       "model_id": "",
       "version_major": 2,
       "version_minor": 0
      },
      "text/plain": [
       "FloatProgress(value=0.0, bar_style='info', description='Progress:', layout=Layout(height='25px', width='50%'),…"
      ]
     },
     "metadata": {},
     "output_type": "display_data"
    },
    {
     "data": {
      "application/vnd.jupyter.widget-view+json": {
       "model_id": "",
       "version_major": 2,
       "version_minor": 0
      },
      "text/plain": [
       "FloatProgress(value=0.0, bar_style='info', description='Progress:', layout=Layout(height='25px', width='50%'),…"
      ]
     },
     "metadata": {},
     "output_type": "display_data"
    }
   ],
   "source": [
    "%%spark -o scatter\n",
    "#spark magic moves dataframe to local\n",
    "#By default it gets a sample of 2500 but you can change it\n",
    "scatter = (\n",
    "    no_outliers\n",
    "    .select('Hours', 'SPIN_T')\n",
    ")"
   ]
  },
  {
   "cell_type": "code",
   "execution_count": 53,
   "id": "b4ebcb5f",
   "metadata": {},
   "outputs": [
    {
     "data": {
      "application/vnd.jupyter.widget-view+json": {
       "model_id": "69ac39aea0ac45b7b3fb075bdb36db34",
       "version_major": 2,
       "version_minor": 0
      },
      "text/plain": [
       "VBox()"
      ]
     },
     "metadata": {},
     "output_type": "display_data"
    },
    {
     "data": {
      "application/vnd.jupyter.widget-view+json": {
       "model_id": "",
       "version_major": 2,
       "version_minor": 0
      },
      "text/plain": [
       "FloatProgress(value=0.0, bar_style='info', description='Progress:', layout=Layout(height='25px', width='50%'),…"
      ]
     },
     "metadata": {},
     "output_type": "display_data"
    },
    {
     "data": {
      "image/png": "[encoded data removed]",
      "text/plain": [
       "<IPython.core.display.Image object>"
      ]
     },
     "metadata": {},
     "output_type": "display_data"
    }
   ],
   "source": [
    "# draw scatter plot\n",
    "#%matplotlib inline\n",
    "import matplotlib.pyplot as plt\n",
    "\n",
    "#Note: If you have a large dataset use a smaller fraction otherwise you may crash your master node when convert Spark df to Pandas df\n",
    "scatter = scatter.sample(fraction=.75).toPandas()\n",
    "plt.clf()\n",
    "plt.scatter( list(scatter['Hours'])\n",
    "         , list(scatter['SPIN_T']), \n",
    "            label=\"Relationship between hours and SPIN\")\n",
    "plt.xlabel(\"Hours\")\n",
    "plt.ylabel(\"SPIN_T\")\n",
    "plt.legend(loc='upper left')\n",
    "plt.show()\n",
    "%matplot plt"
   ]
  },
  {
   "cell_type": "markdown",
   "id": "d8129298",
   "metadata": {},
   "source": [
    "According to this scatterplot, the relationship between hours and SPIN is more significant than the others -- from this we can assume that the less hours someone plays, the lower the degree of social anxiety. However, there are still a large amount of people with high anxiety levels under the 20 hour per week mark. "
   ]
  },
  {
   "cell_type": "markdown",
   "id": "104acf15",
   "metadata": {},
   "source": [
    "# Milestone 3: Modeling"
   ]
  },
  {
   "cell_type": "markdown",
   "id": "4955daac",
   "metadata": {},
   "source": [
    "We will begin by installing the necessary libraries"
   ]
  },
  {
   "cell_type": "code",
   "execution_count": 54,
   "id": "5e2e77d9",
   "metadata": {},
   "outputs": [
    {
     "data": {
      "application/vnd.jupyter.widget-view+json": {
       "model_id": "bb955c781ac44440ba1f6f19fefc58b6",
       "version_major": 2,
       "version_minor": 0
      },
      "text/plain": [
       "VBox()"
      ]
     },
     "metadata": {},
     "output_type": "display_data"
    },
    {
     "data": {
      "application/vnd.jupyter.widget-view+json": {
       "model_id": "",
       "version_major": 2,
       "version_minor": 0
      },
      "text/plain": [
       "FloatProgress(value=0.0, bar_style='info', description='Progress:', layout=Layout(height='25px', width='50%'),…"
      ]
     },
     "metadata": {},
     "output_type": "display_data"
    }
   ],
   "source": [
    "import pyspark.sql.functions as f\n",
    "import pyspark.ml.feature as feat\n",
    "import numpy as np"
   ]
  },
  {
   "cell_type": "code",
   "execution_count": 55,
   "id": "257003be",
   "metadata": {},
   "outputs": [
    {
     "data": {
      "application/vnd.jupyter.widget-view+json": {
       "model_id": "4f6157f12d9548c4967ff61cf24707e4",
       "version_major": 2,
       "version_minor": 0
      },
      "text/plain": [
       "VBox()"
      ]
     },
     "metadata": {},
     "output_type": "display_data"
    },
    {
     "data": {
      "application/vnd.jupyter.widget-view+json": {
       "model_id": "",
       "version_major": 2,
       "version_minor": 0
      },
      "text/plain": [
       "FloatProgress(value=0.0, bar_style='info', description='Progress:', layout=Layout(height='25px', width='50%'),…"
      ]
     },
     "metadata": {},
     "output_type": "display_data"
    },
    {
     "name": "stdout",
     "output_type": "stream",
     "text": [
      "Collecting s3fs\n",
      "  Downloading https://files.pythonhosted.org/packages/46/42/cbdd10502fa5ba8a477fbc997afcf12f14663273d582c35e2b54944a6704/s3fs-2021.11.1-py3-none-any.whl\n",
      "Collecting fsspec==2021.11.1 (from s3fs)\n",
      "  Downloading https://files.pythonhosted.org/packages/97/76/8f9921e10d9cbdf4790d4fb7a9883f3d636926e8b0564a4983ac15c167c9/fsspec-2021.11.1-py3-none-any.whl (132kB)\n",
      "Collecting aiohttp<=4 (from s3fs)\n",
      "  Downloading https://files.pythonhosted.org/packages/dd/fe/80c594d62a7ff07730fd2cfc3a058498087436d8c938243e0610d1928f0e/aiohttp-3.8.1-cp37-cp37m-manylinux_2_5_x86_64.manylinux1_x86_64.manylinux_2_12_x86_64.manylinux2010_x86_64.whl (1.1MB)\n",
      "Collecting aiobotocore~=2.0.1 (from s3fs)\n",
      "  Downloading https://files.pythonhosted.org/packages/11/16/4226e59bb72e096d9809ccedf349a1385b7ce55e7520181ba885cddbd60f/aiobotocore-2.0.1.tar.gz (54kB)\n",
      "Collecting typing-extensions>=3.7.4; python_version < \"3.8\" (from aiohttp<=4->s3fs)\n",
      "  Downloading https://files.pythonhosted.org/packages/05/e4/baf0031e39cf545f0c9edd5b1a2ea12609b7fcba2d58e118b11753d68cf0/typing_extensions-4.0.1-py3-none-any.whl\n",
      "Collecting charset-normalizer<3.0,>=2.0 (from aiohttp<=4->s3fs)\n",
      "  Downloading https://files.pythonhosted.org/packages/c8/27/141554fc0f42c05dd318fbb0be0e3e018da686544a3ff452762e49ccac58/charset_normalizer-2.0.8-py3-none-any.whl\n",
      "Collecting yarl<2.0,>=1.0 (from aiohttp<=4->s3fs)\n",
      "  Downloading https://files.pythonhosted.org/packages/80/7f/af3ecdf87e8e41da7b133f1d61f82745f8c862bdade3b56addee3ad23956/yarl-1.7.2-cp37-cp37m-manylinux_2_5_x86_64.manylinux1_x86_64.manylinux_2_12_x86_64.manylinux2010_x86_64.whl (271kB)\n",
      "Collecting multidict<7.0,>=4.5 (from aiohttp<=4->s3fs)\n",
      "  Downloading https://files.pythonhosted.org/packages/59/72/fb72624cd55492543f88ae492e5bc4dac7d6d55fde1bd4a03662b82dadf4/multidict-5.2.0-cp37-cp37m-manylinux_2_5_x86_64.manylinux1_x86_64.manylinux_2_12_x86_64.manylinux2010_x86_64.whl (160kB)\n",
      "Collecting attrs>=17.3.0 (from aiohttp<=4->s3fs)\n",
      "  Downloading https://files.pythonhosted.org/packages/20/a9/ba6f1cd1a1517ff022b35acd6a7e4246371dfab08b8e42b829b6d07913cc/attrs-21.2.0-py2.py3-none-any.whl (53kB)\n",
      "Collecting aiosignal>=1.1.2 (from aiohttp<=4->s3fs)\n",
      "  Downloading https://files.pythonhosted.org/packages/3b/87/fe94898f2d44a93a35d5aa74671ed28094d80753a1113d68b799fab6dc22/aiosignal-1.2.0-py3-none-any.whl\n",
      "Collecting async-timeout<5.0,>=4.0.0a3 (from aiohttp<=4->s3fs)\n",
      "  Downloading https://files.pythonhosted.org/packages/41/4a/2ca8802045b6df8dd25a0f8f7c216808e9e3bff2809efe4a36cc99d35cca/async_timeout-4.0.1-py3-none-any.whl\n",
      "Collecting frozenlist>=1.1.1 (from aiohttp<=4->s3fs)\n",
      "  Downloading https://files.pythonhosted.org/packages/0a/a9/c17424ae021e6c53227b0b54da4506dcae81726f8cd56e6749caafe97d16/frozenlist-1.2.0-cp37-cp37m-manylinux_2_5_x86_64.manylinux1_x86_64.manylinux_2_12_x86_64.manylinux2010_x86_64.whl (192kB)\n",
      "Collecting asynctest==0.13.0; python_version < \"3.8\" (from aiohttp<=4->s3fs)\n",
      "  Downloading https://files.pythonhosted.org/packages/e8/b6/8d17e169d577ca7678b11cd0d3ceebb0a6089a7f4a2de4b945fe4b1c86db/asynctest-0.13.0-py3-none-any.whl\n",
      "Collecting botocore<1.22.9,>=1.22.8 (from aiobotocore~=2.0.1->s3fs)\n",
      "  Downloading https://files.pythonhosted.org/packages/bd/f2/9a0724ee4e6b1fb2e162a4147d96327a63b2a9fd995c9d7e011b49df78f4/botocore-1.22.8-py3-none-any.whl (8.1MB)\n",
      "Collecting wrapt>=1.10.10 (from aiobotocore~=2.0.1->s3fs)\n",
      "  Downloading https://files.pythonhosted.org/packages/8d/dc/14fe7be60cd15f86acdfc8863c0f59a72c2019d373d0b3fe217830044f9f/wrapt-1.13.3-cp37-cp37m-manylinux_2_5_x86_64.manylinux1_x86_64.manylinux_2_12_x86_64.manylinux2010_x86_64.whl (79kB)\n",
      "Collecting aioitertools>=0.5.1 (from aiobotocore~=2.0.1->s3fs)\n",
      "  Downloading https://files.pythonhosted.org/packages/bf/ef/fd35e61a554489a4438cc34aadc95bdc4987f513b56624d78d8b22f08516/aioitertools-0.8.0-py3-none-any.whl\n",
      "Collecting idna>=2.0 (from yarl<2.0,>=1.0->aiohttp<=4->s3fs)\n",
      "  Downloading https://files.pythonhosted.org/packages/04/a2/d918dcd22354d8958fe113e1a3630137e0fc8b44859ade3063982eacd2a4/idna-3.3-py3-none-any.whl (61kB)\n",
      "Collecting urllib3<1.27,>=1.25.4 (from botocore<1.22.9,>=1.22.8->aiobotocore~=2.0.1->s3fs)\n",
      "  Downloading https://files.pythonhosted.org/packages/af/f4/524415c0744552cce7d8bf3669af78e8a069514405ea4fcbd0cc44733744/urllib3-1.26.7-py2.py3-none-any.whl (138kB)\n",
      "Requirement already satisfied: jmespath<1.0.0,>=0.7.1 in /usr/local/lib/python3.7/site-packages (from botocore<1.22.9,>=1.22.8->aiobotocore~=2.0.1->s3fs)\n",
      "Requirement already satisfied: python-dateutil<3.0.0,>=2.1 in /usr/local/lib/python3.7/site-packages (from botocore<1.22.9,>=1.22.8->aiobotocore~=2.0.1->s3fs)\n",
      "Requirement already satisfied: six>=1.5 in /usr/local/lib/python3.7/site-packages (from python-dateutil<3.0.0,>=2.1->botocore<1.22.9,>=1.22.8->aiobotocore~=2.0.1->s3fs)\n",
      "Building wheels for collected packages: aiobotocore\n",
      "  Running setup.py bdist_wheel for aiobotocore: started\n",
      "  Running setup.py bdist_wheel for aiobotocore: finished with status 'done'\n",
      "  Stored in directory: /var/lib/livy/.cache/pip/wheels/b5/ed/0c/11a73368b58c96ef1bdce956adb4e806aaa2c648e8a2332fd2\n",
      "Successfully built aiobotocore\n",
      "Installing collected packages: fsspec, typing-extensions, charset-normalizer, idna, multidict, yarl, attrs, frozenlist, aiosignal, async-timeout, asynctest, aiohttp, urllib3, botocore, wrapt, aioitertools, aiobotocore, s3fs\n",
      "Successfully installed aiobotocore-2.0.1 aiohttp-3.8.1 aioitertools-0.8.0 aiosignal-1.2.0 async-timeout-4.0.1 asynctest-0.13.0 attrs-21.2.0 botocore-1.22.8 charset-normalizer-2.0.8 frozenlist-1.2.0 fsspec-2021.11.1 idna-3.3 multidict-5.2.0 s3fs-2021.11.1 typing-extensions-4.0.1 urllib3-1.26.7 wrapt-1.13.3 yarl-1.7.2"
     ]
    }
   ],
   "source": [
    "#install S3 package needed for saving correlation output to S3\n",
    "sc.install_pypi_package('s3fs')"
   ]
  },
  {
   "cell_type": "markdown",
   "id": "8b11a9d9",
   "metadata": {},
   "source": [
    "## Data Transformation and Normalization "
   ]
  },
  {
   "cell_type": "code",
   "execution_count": 56,
   "id": "b400e4b7",
   "metadata": {},
   "outputs": [
    {
     "data": {
      "application/vnd.jupyter.widget-view+json": {
       "model_id": "bf9cfc3309bc49709576771fcb102998",
       "version_major": 2,
       "version_minor": 0
      },
      "text/plain": [
       "VBox()"
      ]
     },
     "metadata": {},
     "output_type": "display_data"
    },
    {
     "data": {
      "application/vnd.jupyter.widget-view+json": {
       "model_id": "",
       "version_major": 2,
       "version_minor": 0
      },
      "text/plain": [
       "FloatProgress(value=0.0, bar_style='info', description='Progress:', layout=Layout(height='25px', width='50%'),…"
      ]
     },
     "metadata": {},
     "output_type": "display_data"
    },
    {
     "name": "stdout",
     "output_type": "stream",
     "text": [
      "root\n",
      " |-- Id: integer (nullable = true)\n",
      " |-- GADE: string (nullable = true)\n",
      " |-- Hours: integer (nullable = true)\n",
      " |-- earnings: string (nullable = true)\n",
      " |-- whyplay: string (nullable = true)\n",
      " |-- streams: integer (nullable = true)\n",
      " |-- Narcissism: integer (nullable = true)\n",
      " |-- Gender: string (nullable = true)\n",
      " |-- Age: integer (nullable = true)\n",
      " |-- Work: string (nullable = true)\n",
      " |-- Degree: string (nullable = true)\n",
      " |-- Birthplace: string (nullable = true)\n",
      " |-- Residence: string (nullable = true)\n",
      " |-- Playstyle: string (nullable = true)\n",
      " |-- GAD_T: integer (nullable = true)\n",
      " |-- SWL_T: integer (nullable = true)\n",
      " |-- SPIN_T: integer (nullable = true)"
     ]
    }
   ],
   "source": [
    "no_outliers.printSchema()"
   ]
  },
  {
   "cell_type": "code",
   "execution_count": 57,
   "id": "83c82710",
   "metadata": {},
   "outputs": [
    {
     "data": {
      "application/vnd.jupyter.widget-view+json": {
       "model_id": "dbe799f5f1e4440ea7bd77e1665466eb",
       "version_major": 2,
       "version_minor": 0
      },
      "text/plain": [
       "VBox()"
      ]
     },
     "metadata": {},
     "output_type": "display_data"
    },
    {
     "data": {
      "application/vnd.jupyter.widget-view+json": {
       "model_id": "",
       "version_major": 2,
       "version_minor": 0
      },
      "text/plain": [
       "FloatProgress(value=0.0, bar_style='info', description='Progress:', layout=Layout(height='25px', width='50%'),…"
      ]
     },
     "metadata": {},
     "output_type": "display_data"
    },
    {
     "name": "stdout",
     "output_type": "stream",
     "text": [
      "root\n",
      " |-- Id: integer (nullable = true)\n",
      " |-- GADE: string (nullable = true)\n",
      " |-- Hours: integer (nullable = true)\n",
      " |-- streams: integer (nullable = true)\n",
      " |-- Narcissism: integer (nullable = true)\n",
      " |-- Gender: string (nullable = true)\n",
      " |-- Age: integer (nullable = true)\n",
      " |-- Work: string (nullable = true)\n",
      " |-- Degree: string (nullable = true)\n",
      " |-- GAD_T: integer (nullable = true)\n",
      " |-- SWL_T: integer (nullable = true)\n",
      " |-- SPIN_T: integer (nullable = true)"
     ]
    }
   ],
   "source": [
    "# Drop unnecessary columns\n",
    "gaming = no_outliers.drop('earnings','whyplay','Birthplace', 'Residence','Playstyle')\n",
    "gaming.printSchema()"
   ]
  },
  {
   "cell_type": "markdown",
   "id": "985bfd35",
   "metadata": {},
   "source": [
    "In this step we drop the unneccessary columns for our model; most of these columns are only useful for visualization ( birthplace, residence, etc.). Columns such as earnings, whyplay, and playstyle are too specific to include in our analysis -- the survey allowed a free response for these variables and don't prove useful in a real model."
   ]
  },
  {
   "cell_type": "code",
   "execution_count": 58,
   "id": "f717367b",
   "metadata": {},
   "outputs": [
    {
     "data": {
      "application/vnd.jupyter.widget-view+json": {
       "model_id": "f4f1b28ae9884d73816aed76c7abbb24",
       "version_major": 2,
       "version_minor": 0
      },
      "text/plain": [
       "VBox()"
      ]
     },
     "metadata": {},
     "output_type": "display_data"
    },
    {
     "data": {
      "application/vnd.jupyter.widget-view+json": {
       "model_id": "",
       "version_major": 2,
       "version_minor": 0
      },
      "text/plain": [
       "FloatProgress(value=0.0, bar_style='info', description='Progress:', layout=Layout(height='25px', width='50%'),…"
      ]
     },
     "metadata": {},
     "output_type": "display_data"
    },
    {
     "name": "stdout",
     "output_type": "stream",
     "text": [
      "+----+-----+-------+----------+---+-----+-----+------+-----------+--------------------------+-------------------------+---------------------------+---------------------+--------------+-------------+---------------+--------------------------------------+-----------+------------------------+--------------------------------+---------------+-------------------------------+-------------------------------------------+---------------------------------+-------------+--------------------------------------------+\n",
      "|  Id|Hours|streams|Narcissism|Age|GAD_T|SWL_T|SPIN_T|e_GADE_None|e_GADE_Extremely difficult|e_GADE_Somewhat difficult|e_GADE_Not difficult at all|e_GADE_Very difficult|e_Gender_Other|e_Gender_Male|e_Gender_Female|e_Work_Student at college / university|e_Work_None|e_Work_Student at school|e_Work_Unemployed / between jobs|e_Work_Employed|e_Degree_Master�(or equivalent)|e_Degree_Ph.D., Psy. D., MD (or equivalent)|e_Degree_Bachelor�(or equivalent)|e_Degree_None|e_Degree_High school diploma (or equivalent)|\n",
      "+----+-----+-------+----------+---+-----+-----+------+-----------+--------------------------+-------------------------+---------------------------+---------------------+--------------+-------------+---------------+--------------------------------------+-----------+------------------------+--------------------------------+---------------+-------------------------------+-------------------------------------------+---------------------------------+-------------+--------------------------------------------+\n",
      "|2151|   45|     20|         2| 18|    1|   31|    15|          0|                         0|                        1|                          0|                    0|             0|            1|              0|                                     0|          0|                       1|                               0|              0|                              0|                                          0|                                0|            1|                                           0|\n",
      "|2660|   20|      5|         1| 18|    1|   23|     6|          0|                         0|                        0|                          1|                    0|             0|            1|              0|                                     1|          0|                       0|                               0|              0|                              0|                                          0|                                0|            0|                                           1|\n",
      "|3859|    8|     50|         2| 20|    2|   23|    11|          0|                         0|                        0|                          1|                    0|             0|            1|              0|                                     0|          0|                       0|                               0|              1|                              0|                                          0|                                0|            0|                                           1|\n",
      "|5723|   12|      4|         1| 20|   13|   14|    31|          0|                         0|                        0|                          0|                    1|             0|            1|              0|                                     1|          0|                       0|                               0|              0|                              0|                                          0|                                0|            0|                                           1|\n",
      "|6283|   15|     15|         1| 24|    3|   20|    16|          0|                         0|                        0|                          1|                    0|             0|            1|              0|                                     0|          0|                       0|                               1|              0|                              0|                                          0|                                1|            0|                                           0|\n",
      "+----+-----+-------+----------+---+-----+-----+------+-----------+--------------------------+-------------------------+---------------------------+---------------------+--------------+-------------+---------------+--------------------------------------+-----------+------------------------+--------------------------------+---------------+-------------------------------+-------------------------------------------+---------------------------------+-------------+--------------------------------------------+\n",
      "only showing top 5 rows"
     ]
    }
   ],
   "source": [
    "# Create dummies of our categorical variables\n",
    "columns=[\"Id\", \"Hours\", \"streams\", \"Narcissism\", \"Age\", \"GAD_T\", \"SWL_T\", \"SPIN_T\"]\n",
    "categorical_columns=[\"GADE\", \"Gender\", \"Work\", \"Degree\"]\n",
    "#categorical_columns=[\"TYPE\"]\n",
    "expressions=[]\n",
    "for column in categorical_columns:\n",
    "    expression = gaming.select(column).distinct().rdd.flatMap(lambda x: x).collect()\n",
    "    types_expr = [f.when(f.col(column) == ty, 1).otherwise(0).alias(\"e_{}_{}\".format(column, ty)) for ty in expression]\n",
    "    expressions += types_expr\n",
    "df = gaming.select(*columns, *expressions)\n",
    "df.show(5)"
   ]
  },
  {
   "cell_type": "markdown",
   "id": "2edf1576",
   "metadata": {},
   "source": [
    "A few of our variables were categorical, so before we proceed with the next steps we must create dummies for them. Dummies allow us to cast these variables into 0's and 1's and will act as boolean values for our modeling."
   ]
  },
  {
   "cell_type": "code",
   "execution_count": 59,
   "id": "78885428",
   "metadata": {},
   "outputs": [
    {
     "data": {
      "application/vnd.jupyter.widget-view+json": {
       "model_id": "90d95b59bbfe46a6b705a0fea6e8c78b",
       "version_major": 2,
       "version_minor": 0
      },
      "text/plain": [
       "VBox()"
      ]
     },
     "metadata": {},
     "output_type": "display_data"
    },
    {
     "data": {
      "application/vnd.jupyter.widget-view+json": {
       "model_id": "",
       "version_major": 2,
       "version_minor": 0
      },
      "text/plain": [
       "FloatProgress(value=0.0, bar_style='info', description='Progress:', layout=Layout(height='25px', width='50%'),…"
      ]
     },
     "metadata": {},
     "output_type": "display_data"
    },
    {
     "name": "stdout",
     "output_type": "stream",
     "text": [
      "root\n",
      " |-- Id: integer (nullable = true)\n",
      " |-- Hours: integer (nullable = true)\n",
      " |-- streams: integer (nullable = true)\n",
      " |-- Narcissism: integer (nullable = true)\n",
      " |-- Age: integer (nullable = true)\n",
      " |-- GAD_T: integer (nullable = true)\n",
      " |-- SWL_T: integer (nullable = true)\n",
      " |-- SPIN_T: integer (nullable = true)\n",
      " |-- e_GADE_None: integer (nullable = false)\n",
      " |-- e_GADE_Extremely difficult: integer (nullable = false)\n",
      " |-- e_GADE_Somewhat difficult: integer (nullable = false)\n",
      " |-- e_GADE_Not difficult at all: integer (nullable = false)\n",
      " |-- e_GADE_Very difficult: integer (nullable = false)\n",
      " |-- e_Gender_Other: integer (nullable = false)\n",
      " |-- e_Gender_Male: integer (nullable = false)\n",
      " |-- e_Gender_Female: integer (nullable = false)\n",
      " |-- e_Work_Student at college / university: integer (nullable = false)\n",
      " |-- e_Work_None: integer (nullable = false)\n",
      " |-- e_Work_Student at school: integer (nullable = false)\n",
      " |-- e_Work_Unemployed / between jobs: integer (nullable = false)\n",
      " |-- e_Work_Employed: integer (nullable = false)\n",
      " |-- e_Degree_Master�(or equivalent): integer (nullable = false)\n",
      " |-- e_Degree_Ph.D., Psy. D., MD (or equivalent): integer (nullable = false)\n",
      " |-- e_Degree_Bachelor�(or equivalent): integer (nullable = false)\n",
      " |-- e_Degree_None: integer (nullable = false)\n",
      " |-- e_Degree_High school diploma (or equivalent): integer (nullable = false)"
     ]
    }
   ],
   "source": [
    "#Check to see if they were all cast to integer\n",
    "df.printSchema()"
   ]
  },
  {
   "cell_type": "code",
   "execution_count": 60,
   "id": "55bd617e",
   "metadata": {},
   "outputs": [
    {
     "data": {
      "application/vnd.jupyter.widget-view+json": {
       "model_id": "c1d3e4ac74b84cd08f5141bbd8070a95",
       "version_major": 2,
       "version_minor": 0
      },
      "text/plain": [
       "VBox()"
      ]
     },
     "metadata": {},
     "output_type": "display_data"
    },
    {
     "data": {
      "application/vnd.jupyter.widget-view+json": {
       "model_id": "",
       "version_major": 2,
       "version_minor": 0
      },
      "text/plain": [
       "FloatProgress(value=0.0, bar_style='info', description='Progress:', layout=Layout(height='25px', width='50%'),…"
      ]
     },
     "metadata": {},
     "output_type": "display_data"
    },
    {
     "name": "stdout",
     "output_type": "stream",
     "text": [
      "13316"
     ]
    }
   ],
   "source": [
    "# check to see that all records are still there\n",
    "df.count()"
   ]
  },
  {
   "cell_type": "code",
   "execution_count": 61,
   "id": "f6365962",
   "metadata": {},
   "outputs": [
    {
     "data": {
      "application/vnd.jupyter.widget-view+json": {
       "model_id": "b101586eb8744dec8d88d2d6b40700dd",
       "version_major": 2,
       "version_minor": 0
      },
      "text/plain": [
       "VBox()"
      ]
     },
     "metadata": {},
     "output_type": "display_data"
    },
    {
     "data": {
      "application/vnd.jupyter.widget-view+json": {
       "model_id": "",
       "version_major": 2,
       "version_minor": 0
      },
      "text/plain": [
       "FloatProgress(value=0.0, bar_style='info', description='Progress:', layout=Layout(height='25px', width='50%'),…"
      ]
     },
     "metadata": {},
     "output_type": "display_data"
    },
    {
     "name": "stdout",
     "output_type": "stream",
     "text": [
      "root\n",
      " |-- Id: integer (nullable = true)\n",
      " |-- Hours: integer (nullable = true)\n",
      " |-- streams: integer (nullable = true)\n",
      " |-- Narcissism: integer (nullable = true)\n",
      " |-- Age: integer (nullable = true)\n",
      " |-- GAD_T: integer (nullable = true)\n",
      " |-- SWL_T: integer (nullable = true)\n",
      " |-- SPIN_T: integer (nullable = true)\n",
      " |-- e_GADE_None: integer (nullable = false)\n",
      " |-- e_GADE_Extremely difficult: integer (nullable = false)\n",
      " |-- e_GADE_Somewhat difficult: integer (nullable = false)\n",
      " |-- e_GADE_Not difficult at all: integer (nullable = false)\n",
      " |-- e_GADE_Very difficult: integer (nullable = false)\n",
      " |-- e_Gender_Other: integer (nullable = false)\n",
      " |-- e_Gender_Male: integer (nullable = false)\n",
      " |-- e_Gender_Female: integer (nullable = false)\n",
      " |-- e_Work_Student at college / university: integer (nullable = false)\n",
      " |-- e_Work_None: integer (nullable = false)\n",
      " |-- e_Work_Student at school: integer (nullable = false)\n",
      " |-- e_Work_Unemployed / between jobs: integer (nullable = false)\n",
      " |-- e_Work_Employed: integer (nullable = false)\n",
      " |-- e_Degree_Master�(or equivalent): integer (nullable = false)\n",
      " |-- e_Degree_PhD: integer (nullable = false)\n",
      " |-- e_Degree_Bachelor�(or equivalent): integer (nullable = false)\n",
      " |-- e_Degree_None: integer (nullable = false)\n",
      " |-- e_Degree_High school diploma (or equivalent): integer (nullable = false)"
     ]
    }
   ],
   "source": [
    "# Period in column is causing an error\n",
    "df = df.withColumnRenamed('e_Degree_Ph.D., Psy. D., MD (or equivalent)','e_Degree_PhD')\n",
    "df.printSchema()"
   ]
  },
  {
   "cell_type": "code",
   "execution_count": 62,
   "id": "63c35df1",
   "metadata": {},
   "outputs": [
    {
     "data": {
      "application/vnd.jupyter.widget-view+json": {
       "model_id": "23f4809c64554cc880e767c5d1c5526b",
       "version_major": 2,
       "version_minor": 0
      },
      "text/plain": [
       "VBox()"
      ]
     },
     "metadata": {},
     "output_type": "display_data"
    },
    {
     "data": {
      "application/vnd.jupyter.widget-view+json": {
       "model_id": "",
       "version_major": 2,
       "version_minor": 0
      },
      "text/plain": [
       "FloatProgress(value=0.0, bar_style='info', description='Progress:', layout=Layout(height='25px', width='50%'),…"
      ]
     },
     "metadata": {},
     "output_type": "display_data"
    },
    {
     "name": "stdout",
     "output_type": "stream",
     "text": [
      "root\n",
      " |-- Id: integer (nullable = true)\n",
      " |-- Hours: integer (nullable = true)\n",
      " |-- streams: integer (nullable = true)\n",
      " |-- Narcissism: integer (nullable = true)\n",
      " |-- Age: integer (nullable = true)\n",
      " |-- GAD_T: integer (nullable = true)\n",
      " |-- SWL_T: integer (nullable = true)\n",
      " |-- SPIN_T: integer (nullable = true)\n",
      " |-- e_GADE_None: integer (nullable = false)\n",
      " |-- e_GADE_Extremely_difficult: integer (nullable = false)\n",
      " |-- e_GADE_Somewhat_difficult: integer (nullable = false)\n",
      " |-- e_GADE_Not_difficult_at_all: integer (nullable = false)\n",
      " |-- e_GADE_Very_difficult: integer (nullable = false)\n",
      " |-- e_Gender_Other: integer (nullable = false)\n",
      " |-- e_Gender_Male: integer (nullable = false)\n",
      " |-- e_Gender_Female: integer (nullable = false)\n",
      " |-- e_Work_Student_at_college_/_university: integer (nullable = false)\n",
      " |-- e_Work_None: integer (nullable = false)\n",
      " |-- e_Work_Student_at_school: integer (nullable = false)\n",
      " |-- e_Work_Unemployed_/_between_jobs: integer (nullable = false)\n",
      " |-- e_Work_Employed: integer (nullable = false)\n",
      " |-- e_Degree_Master: integer (nullable = false)\n",
      " |-- e_Degree_PhD: integer (nullable = false)\n",
      " |-- e_Degree_Bachelor: integer (nullable = false)\n",
      " |-- e_Degree_None: integer (nullable = false)\n",
      " |-- e_Degree_High_school_diploma_(or_equivalent): integer (nullable = false)"
     ]
    }
   ],
   "source": [
    "# Some data cleaning\n",
    "df = df.select([f.col(col).alias(col.replace(' ', '_')) for col in df.columns])\n",
    "df = df.withColumnRenamed('e_Degree_Master�(or_equivalent)','e_Degree_Master')\n",
    "df = df.withColumnRenamed('e_Degree_Bachelor�(or_equivalent)','e_Degree_Bachelor')\n",
    "df.printSchema()"
   ]
  },
  {
   "cell_type": "code",
   "execution_count": 63,
   "id": "5e386f6c",
   "metadata": {},
   "outputs": [
    {
     "data": {
      "application/vnd.jupyter.widget-view+json": {
       "model_id": "b9457b7820c047dea707d0a8e76e501b",
       "version_major": 2,
       "version_minor": 0
      },
      "text/plain": [
       "VBox()"
      ]
     },
     "metadata": {},
     "output_type": "display_data"
    },
    {
     "data": {
      "application/vnd.jupyter.widget-view+json": {
       "model_id": "",
       "version_major": 2,
       "version_minor": 0
      },
      "text/plain": [
       "FloatProgress(value=0.0, bar_style='info', description='Progress:', layout=Layout(height='25px', width='50%'),…"
      ]
     },
     "metadata": {},
     "output_type": "display_data"
    },
    {
     "name": "stdout",
     "output_type": "stream",
     "text": [
      "[Row(feat=SparseVector(26, {0: 2151.0, 1: 45.0, 2: 20.0, 3: 2.0, 4: 18.0, 5: 1.0, 6: 31.0, 7: 15.0, 10: 1.0, 14: 1.0, 18: 1.0, 24: 1.0}), pca_feat=DenseVector([-2150.9981, -37.7177, -26.2537, 10.5225, 35.6101]))]"
     ]
    }
   ],
   "source": [
    "#Vectorize all columns\n",
    "vectorAssembler = (\n",
    "    feat.VectorAssembler(\n",
    "        inputCols=df.columns, \n",
    "        outputCol='feat'\n",
    "    )\n",
    ")\n",
    "\n",
    "#fit PCA to the vector with 5 components\n",
    "pca = (\n",
    "    feat.PCA(\n",
    "        k=5\n",
    "        , inputCol=vectorAssembler.getOutputCol()\n",
    "        , outputCol='pca_feat'\n",
    "    )\n",
    ")\n",
    "\n",
    "#transform the data using PCA\n",
    "#original dataset contains 26 columns\n",
    "#the output shows one vectorized record as well as\n",
    "#the 5 feature output of the record from PCA\n",
    "(\n",
    "    pca\n",
    "    .fit(vectorAssembler.transform(df))\n",
    "    .transform(vectorAssembler.transform(df))\n",
    "    .select('feat','pca_feat')\n",
    "    .take(1)\n",
    ")"
   ]
  },
  {
   "cell_type": "markdown",
   "id": "96030266",
   "metadata": {},
   "source": [
    "Vector Assembler will create a vector of all columns and PCA will create a principal component vector of 5 components. In order to proceed with our modeling, we'll be using vectorassembly often to keep all our features in one vector."
   ]
  },
  {
   "cell_type": "markdown",
   "id": "84f526ac",
   "metadata": {},
   "source": [
    "## Correlations and Interpretations"
   ]
  },
  {
   "cell_type": "code",
   "execution_count": 64,
   "id": "2ed381c7",
   "metadata": {},
   "outputs": [
    {
     "data": {
      "application/vnd.jupyter.widget-view+json": {
       "model_id": "71382b328fbb46928b0da07c27d75862",
       "version_major": 2,
       "version_minor": 0
      },
      "text/plain": [
       "VBox()"
      ]
     },
     "metadata": {},
     "output_type": "display_data"
    },
    {
     "data": {
      "application/vnd.jupyter.widget-view+json": {
       "model_id": "",
       "version_major": 2,
       "version_minor": 0
      },
      "text/plain": [
       "FloatProgress(value=0.0, bar_style='info', description='Progress:', layout=Layout(height='25px', width='50%'),…"
      ]
     },
     "metadata": {},
     "output_type": "display_data"
    },
    {
     "name": "stdout",
     "output_type": "stream",
     "text": [
      "DenseMatrix([[ 1.00000000e+00, -2.56458070e-03, -2.15230724e-02,\n",
      "               2.30439346e-04, -4.96925279e-02, -1.33038552e-03,\n",
      "              -1.79796762e-03,  6.04069129e-03,             nan,\n",
      "              -8.77642281e-03, -2.80147066e-04,  3.82557717e-03,\n",
      "               1.57150694e-02, -5.79280406e-03, -2.08467419e-02,\n",
      "               2.30264693e-02,  6.70519409e-04,             nan,\n",
      "               1.26783127e-02, -5.12844040e-03, -1.07050575e-02,\n",
      "              -3.97716466e-02, -1.64457950e-03, -1.85279868e-02,\n",
      "               1.07216847e-03,  3.12427663e-02],\n",
      "             [-2.56458070e-03,  1.00000000e+00,  1.35559720e-01,\n",
      "               5.90740608e-02, -9.12576712e-02,  9.33413174e-02,\n",
      "              -1.34067878e-01,  9.54954961e-02,             nan,\n",
      "               7.53027200e-02, -4.72953464e-03, -4.68069186e-02,\n",
      "               4.93823890e-02,  3.19224331e-02,  3.86681522e-02,\n",
      "              -4.83238811e-02, -5.83551092e-02,             nan,\n",
      "               2.64281228e-02,  1.42816811e-01, -5.92701051e-02,\n",
      "              -5.92349912e-02, -1.94810836e-02, -7.64811274e-02,\n",
      "               4.53500553e-02,  6.08573968e-02],\n",
      "             [-2.15230724e-02,  1.35559720e-01,  1.00000000e+00,\n",
      "               2.96378697e-02,  1.78584967e-02,  6.91966402e-02,\n",
      "              -6.88039608e-02,  7.56351235e-02,             nan,\n",
      "               6.09561308e-02,  2.28386412e-03, -3.90779254e-02,\n",
      "               4.27008198e-02,  5.72314104e-04,  3.89294565e-02,\n",
      "              -4.02846434e-02,  3.20552125e-03,             nan,\n",
      "              -5.35475687e-02,  8.37560829e-02, -1.83990616e-02,\n",
      "              -1.28076085e-02, -1.51052849e-02, -1.14123746e-02,\n",
      "              -3.63356326e-02,  4.15528956e-02],\n",
      "             [ 2.30439346e-04,  5.90740608e-02,  2.96378697e-02,\n",
      "               1.00000000e+00, -3.72273267e-02,  7.78968809e-02,\n",
      "              -1.27454745e-02, -7.42954142e-03,             nan,\n",
      "               7.80755461e-03,  3.30549352e-02, -3.62627128e-02,\n",
      "               3.44374415e-02,  2.00753123e-02,  4.22188957e-02,\n",
      "              -4.88445923e-02,  1.04542501e-02,             nan,\n",
      "               1.18382720e-02, -1.57033474e-02, -1.10408716e-02,\n",
      "               1.04952363e-02,  4.91747294e-03, -1.74710863e-02,\n",
      "               1.41291355e-02, -4.46934614e-05],\n",
      "             [-4.96925279e-02, -9.12576712e-02,  1.78584967e-02,\n",
      "              -3.72273267e-02,  1.00000000e+00, -4.01846099e-02,\n",
      "               1.09402311e-03, -1.03438007e-01,             nan,\n",
      "               1.11686810e-02, -2.42029739e-02,  1.82956878e-02,\n",
      "              -1.70862791e-02,  1.21875805e-02, -5.00182353e-02,\n",
      "               4.83345196e-02, -1.80900984e-01,             nan,\n",
      "              -3.57509055e-01,  1.05680402e-01,  4.76266101e-01,\n",
      "               2.88230086e-01,  1.24461388e-01,  3.84472675e-01,\n",
      "              -2.50485199e-01, -2.91518964e-01],\n",
      "             [-1.33038552e-03,  9.33413174e-02,  6.91966402e-02,\n",
      "               7.78968809e-02, -4.01846099e-02,  1.00000000e+00,\n",
      "              -4.04050038e-01,  4.36536118e-01,             nan,\n",
      "               3.35610964e-01,  2.39666612e-01, -4.44164878e-01,\n",
      "               3.69701471e-01,  5.60145233e-02, -1.29423186e-01,\n",
      "               1.18578971e-01, -6.37613822e-03,             nan,\n",
      "               1.73098452e-02,  8.51295829e-02, -7.24180430e-02,\n",
      "              -3.73459994e-02, -1.24974636e-02, -4.17708575e-02,\n",
      "               1.71614466e-02,  4.06759420e-02],\n",
      "             [-1.79796762e-03, -1.34067878e-01, -6.88039608e-02,\n",
      "              -1.27454745e-02,  1.09402311e-03, -4.04050038e-01,\n",
      "               1.00000000e+00, -3.10348597e-01,             nan,\n",
      "              -1.90012347e-01, -1.37341206e-01,  2.61187890e-01,\n",
      "              -2.14943185e-01, -3.51444676e-02,  3.56380574e-02,\n",
      "              -2.74255877e-02,  7.94652652e-02,             nan,\n",
      "               1.70009513e-02, -2.39657588e-01,  6.43455826e-02,\n",
      "               6.70314324e-02,  4.98953969e-02,  7.08309985e-02,\n",
      "              -1.32197786e-02, -8.59795272e-02],\n",
      "             [ 6.04069129e-03,  9.54954961e-02,  7.56351235e-02,\n",
      "              -7.42954142e-03, -1.03438007e-01,  4.36536118e-01,\n",
      "              -3.10348597e-01,  1.00000000e+00,             nan,\n",
      "               1.64531153e-01,  1.52545939e-01, -2.62410034e-01,\n",
      "               2.06052808e-01,  3.54246982e-02, -1.47754411e-01,\n",
      "               1.42933762e-01, -1.04405071e-02,             nan,\n",
      "               4.89158155e-02,  7.64884563e-02, -8.97109387e-02,\n",
      "              -5.75172719e-02, -2.52013008e-02, -9.01576539e-02,\n",
      "               5.26874732e-02,  6.75973264e-02],\n",
      "             [            nan,             nan,             nan,\n",
      "                          nan,             nan,             nan,\n",
      "                          nan,             nan,  1.00000000e+00,\n",
      "                          nan,             nan,             nan,\n",
      "                          nan,             nan,             nan,\n",
      "                          nan,             nan,             nan,\n",
      "                          nan,             nan,             nan,\n",
      "                          nan,             nan,             nan,\n",
      "                          nan,             nan],\n",
      "             [-8.77642281e-03,  7.53027200e-02,  6.09561308e-02,\n",
      "               7.80755461e-03,  1.11686810e-02,  3.35610964e-01,\n",
      "              -1.90012347e-01,  1.64531153e-01,             nan,\n",
      "               1.00000000e+00, -1.38314520e-01, -1.63174282e-01,\n",
      "              -5.00970811e-02,  5.64816219e-02, -5.84109042e-02,\n",
      "               4.52475428e-02, -1.79398979e-02,             nan,\n",
      "              -1.54418319e-02,  9.17492359e-02, -3.26630574e-02,\n",
      "              -2.48176010e-02,  1.66864902e-03, -1.48651586e-02,\n",
      "               2.13285461e-03,  2.08050625e-02],\n",
      "             [-2.80147066e-04, -4.72953464e-03,  2.28386412e-03,\n",
      "               3.30549352e-02, -2.42029739e-02,  2.39666612e-01,\n",
      "              -1.37341206e-01,  1.52545939e-01,             nan,\n",
      "              -1.38314520e-01,  1.00000000e+00, -7.32540586e-01,\n",
      "              -2.24901527e-01,  2.59325835e-03, -5.11016580e-02,\n",
      "               5.19941884e-02,  3.01143093e-02,             nan,\n",
      "               1.94319071e-02, -1.50964534e-02, -4.47224873e-02,\n",
      "              -6.34956331e-03,  9.86883342e-04, -1.25940270e-02,\n",
      "               8.99961395e-03,  6.89066539e-03],\n",
      "             [ 3.82557717e-03, -4.68069186e-02, -3.90779254e-02,\n",
      "              -3.62627128e-02,  1.82956878e-02, -4.44164878e-01,\n",
      "               2.61187890e-01, -2.62410034e-01,             nan,\n",
      "              -1.63174282e-01, -7.32540586e-01,  1.00000000e+00,\n",
      "              -2.65323880e-01, -2.73945554e-02,  8.49606165e-02,\n",
      "              -8.03268931e-02, -1.09884306e-02,             nan,\n",
      "              -1.94499943e-02, -4.69931002e-02,  6.77486847e-02,\n",
      "               1.49869401e-02, -3.16504637e-03,  2.87607890e-02,\n",
      "              -1.80113687e-02, -1.74760132e-02],\n",
      "             [ 1.57150694e-02,  4.93823890e-02,  4.27008198e-02,\n",
      "               3.44374415e-02, -1.70862791e-02,  3.69701471e-01,\n",
      "              -2.14943185e-01,  2.06052808e-01,             nan,\n",
      "              -5.00970811e-02, -2.24901527e-01, -2.65323880e-01,\n",
      "               1.00000000e+00,  1.66007308e-02, -4.61730805e-02,\n",
      "               4.32008885e-02, -1.11048628e-02,             nan,\n",
      "               1.27074508e-02,  6.37844176e-02, -4.64075771e-02,\n",
      "              -1.95440839e-02, -2.70569179e-03, -2.93861540e-02,\n",
      "               1.85661407e-02,  2.04908506e-02],\n",
      "             [-5.79280406e-03,  3.19224331e-02,  5.72314104e-04,\n",
      "               2.00753123e-02,  1.21875805e-02,  5.60145233e-02,\n",
      "              -3.51444676e-02,  3.54246982e-02,             nan,\n",
      "               5.64816219e-02,  2.59325835e-03, -2.73945554e-02,\n",
      "               1.66007308e-02,  1.00000000e+00, -2.43439535e-01,\n",
      "              -1.40612581e-02, -4.35607297e-03,             nan,\n",
      "              -2.71263927e-03,  1.32466677e-02, -1.70153690e-03,\n",
      "              -5.78100766e-03,  2.60005930e-02, -4.38767026e-03,\n",
      "              -1.91277515e-03,  2.86083706e-03],\n",
      "             [-2.08467419e-02,  3.86681522e-02,  3.89294565e-02,\n",
      "               4.22188957e-02, -5.00182353e-02, -1.29423186e-01,\n",
      "               3.56380574e-02, -1.47754411e-01,             nan,\n",
      "              -5.84109042e-02, -5.11016580e-02,  8.49606165e-02,\n",
      "              -4.61730805e-02, -2.43439535e-01,  1.00000000e+00,\n",
      "              -9.66397119e-01,  2.58002978e-03,             nan,\n",
      "               2.32645556e-02, -2.02751812e-02, -1.09708709e-02,\n",
      "              -6.04726040e-03, -1.55913174e-02, -3.91174601e-02,\n",
      "               3.10697356e-02,  1.69026034e-02],\n",
      "             [ 2.30264693e-02, -4.83238811e-02, -4.02846434e-02,\n",
      "              -4.88445923e-02,  4.83345196e-02,  1.18578971e-01,\n",
      "              -2.74255877e-02,  1.42933762e-01,             nan,\n",
      "               4.52475428e-02,  5.19941884e-02, -8.03268931e-02,\n",
      "               4.32008885e-02, -1.40612581e-02, -9.66397119e-01,\n",
      "               1.00000000e+00, -1.50531581e-03,             nan,\n",
      "              -2.32648599e-02,  1.73912693e-02,  1.17609894e-02,\n",
      "               7.76633379e-03,  9.18247191e-03,  4.14896306e-02,\n",
      "              -3.15233233e-02, -1.81833476e-02],\n",
      "             [ 6.70519409e-04, -5.83551092e-02,  3.20552125e-03,\n",
      "               1.04542501e-02, -1.80900984e-01, -6.37613822e-03,\n",
      "               7.94652652e-02, -1.04405071e-02,             nan,\n",
      "              -1.79398979e-02,  3.01143093e-02, -1.09884306e-02,\n",
      "              -1.11048628e-02, -4.35607297e-03,  2.58002978e-03,\n",
      "              -1.50531581e-03,  1.00000000e+00,             nan,\n",
      "              -4.69703331e-01, -3.56239970e-01, -5.31530401e-01,\n",
      "              -5.95312987e-02, -3.36498384e-02, -7.16281956e-02,\n",
      "              -2.46518673e-01,  2.54171200e-01],\n",
      "             [            nan,             nan,             nan,\n",
      "                          nan,             nan,             nan,\n",
      "                          nan,             nan,             nan,\n",
      "                          nan,             nan,             nan,\n",
      "                          nan,             nan,             nan,\n",
      "                          nan,             nan,  1.00000000e+00,\n",
      "                          nan,             nan,             nan,\n",
      "                          nan,             nan,             nan,\n",
      "                          nan,             nan],\n",
      "             [ 1.26783127e-02,  2.64281228e-02, -5.35475687e-02,\n",
      "               1.18382720e-02, -3.57509055e-01,  1.73098452e-02,\n",
      "               1.70009513e-02,  4.89158155e-02,             nan,\n",
      "              -1.54418319e-02,  1.94319071e-02, -1.94499943e-02,\n",
      "               1.27074508e-02, -2.71263927e-03,  2.32645556e-02,\n",
      "              -2.32648599e-02, -4.69703331e-01,             nan,\n",
      "               1.00000000e+00, -1.50840495e-01, -2.25062642e-01,\n",
      "              -8.53561653e-02, -1.95399719e-02, -2.04581627e-01,\n",
      "               5.24547370e-01, -1.41826805e-01],\n",
      "             [-5.12844040e-03,  1.42816811e-01,  8.37560829e-02,\n",
      "              -1.57033474e-02,  1.05680402e-01,  8.51295829e-02,\n",
      "              -2.39657588e-01,  7.64884563e-02,             nan,\n",
      "               9.17492359e-02, -1.50964534e-02, -4.69931002e-02,\n",
      "               6.37844176e-02,  1.32466677e-02, -2.02751812e-02,\n",
      "               1.73912693e-02, -3.56239970e-01,             nan,\n",
      "              -1.50840495e-01,  1.00000000e+00, -1.70695636e-01,\n",
      "               1.47900088e-02, -3.74240712e-03,  2.66336204e-02,\n",
      "              -4.43364987e-02,  2.04188609e-03],\n",
      "             [-1.07050575e-02, -5.92701051e-02, -1.83990616e-02,\n",
      "              -1.10408716e-02,  4.76266101e-01, -7.24180430e-02,\n",
      "               6.43455826e-02, -8.97109387e-02,             nan,\n",
      "              -3.26630574e-02, -4.47224873e-02,  6.77486847e-02,\n",
      "              -4.64075771e-02, -1.70153690e-03, -1.09708709e-02,\n",
      "               1.17609894e-02, -5.31530401e-01,             nan,\n",
      "              -2.25062642e-01, -1.70695636e-01,  1.00000000e+00,\n",
      "               1.42035748e-01,  6.31919421e-02,  2.56056434e-01,\n",
      "              -1.44475888e-01, -1.85273689e-01],\n",
      "             [-3.97716466e-02, -5.92349912e-02, -1.28076085e-02,\n",
      "               1.04952363e-02,  2.88230086e-01, -3.73459994e-02,\n",
      "               6.70314324e-02, -5.75172719e-02,             nan,\n",
      "              -2.48176010e-02, -6.34956331e-03,  1.49869401e-02,\n",
      "              -1.95440839e-02, -5.78100766e-03, -6.04726040e-03,\n",
      "               7.76633379e-03, -5.95312987e-02,             nan,\n",
      "              -8.53561653e-02,  1.47900088e-02,  1.42035748e-01,\n",
      "               1.00000000e+00, -1.69264815e-02, -1.02494694e-01,\n",
      "              -7.45838187e-02, -2.71495108e-01],\n",
      "             [-1.64457950e-03, -1.94810836e-02, -1.51052849e-02,\n",
      "               4.91747294e-03,  1.24461388e-01, -1.24974636e-02,\n",
      "               4.98953969e-02, -2.52013008e-02,             nan,\n",
      "               1.66864902e-03,  9.86883342e-04, -3.16504637e-03,\n",
      "              -2.70569179e-03,  2.60005930e-02, -1.55913174e-02,\n",
      "               9.18247191e-03, -3.36498384e-02,             nan,\n",
      "              -1.95399719e-02, -3.74240712e-03,  6.31919421e-02,\n",
      "              -1.69264815e-02,  1.00000000e+00, -4.12048826e-02,\n",
      "              -2.99841620e-02, -1.09146373e-01],\n",
      "             [-1.85279868e-02, -7.64811274e-02, -1.14123746e-02,\n",
      "              -1.74710863e-02,  3.84472675e-01, -4.17708575e-02,\n",
      "               7.08309985e-02, -9.01576539e-02,             nan,\n",
      "              -1.48651586e-02, -1.25940270e-02,  2.87607890e-02,\n",
      "              -2.93861540e-02, -4.38767026e-03, -3.91174601e-02,\n",
      "               4.14896306e-02, -7.16281956e-02,             nan,\n",
      "              -2.04581627e-01,  2.66336204e-02,  2.56056434e-01,\n",
      "              -1.02494694e-01, -4.12048826e-02,  1.00000000e+00,\n",
      "              -1.81562689e-01, -6.60912549e-01],\n",
      "             [ 1.07216847e-03,  4.53500553e-02, -3.63356326e-02,\n",
      "               1.41291355e-02, -2.50485199e-01,  1.71614466e-02,\n",
      "              -1.32197786e-02,  5.26874732e-02,             nan,\n",
      "               2.13285461e-03,  8.99961395e-03, -1.80113687e-02,\n",
      "               1.85661407e-02, -1.91277515e-03,  3.10697356e-02,\n",
      "              -3.15233233e-02, -2.46518673e-01,             nan,\n",
      "               5.24547370e-01, -4.43364987e-02, -1.44475888e-01,\n",
      "              -7.45838187e-02, -2.99841620e-02, -1.81562689e-01,\n",
      "               1.00000000e+00, -4.80935939e-01],\n",
      "             [ 3.12427663e-02,  6.08573968e-02,  4.15528956e-02,\n",
      "              -4.46934614e-05, -2.91518964e-01,  4.06759420e-02,\n",
      "              -8.59795272e-02,  6.75973264e-02,             nan,\n",
      "               2.08050625e-02,  6.89066539e-03, -1.74760132e-02,\n",
      "               2.04908506e-02,  2.86083706e-03,  1.69026034e-02,\n",
      "              -1.81833476e-02,  2.54171200e-01,             nan,\n",
      "              -1.41826805e-01,  2.04188609e-03, -1.85273689e-01,\n",
      "              -2.71495108e-01, -1.09146373e-01, -6.60912549e-01,\n",
      "              -4.80935939e-01,  1.00000000e+00]])"
     ]
    }
   ],
   "source": [
    "# Create correlation matrix of variables\n",
    "#%%spark -o corr\n",
    "import pyspark.ml.stat as st\n",
    "import numpy as np\n",
    "import pandas as pd\n",
    "\n",
    "features_and_label = feat.VectorAssembler(\n",
    "    inputCols=df.columns\n",
    "    , outputCol='features'\n",
    ")\n",
    "\n",
    "corr = st.Correlation.corr(\n",
    "    features_and_label.transform(df), \n",
    "    'features', \n",
    "    'pearson'\n",
    ")\n",
    "\n",
    "print(str(corr.collect()[0][0]))\n",
    "corr_pd = corr.toPandas()\n",
    "output_np = np.array(corr_pd.iloc[0, 0].values).reshape(\n",
    "    (corr_pd.iloc[0, 0].numRows, corr_pd.iloc[0, 0].numCols))\n",
    "\n",
    "#Change the following path to a path in your own S3 bucket\n",
    "spark.createDataFrame(pd.DataFrame(output_np)).repartition(1).write.format('csv').option('header',True\n",
    "                ).mode('overwrite').option('sep',',').save('s3://cis4670-sergiofigueroa/Spark/corr2')"
   ]
  },
  {
   "cell_type": "markdown",
   "id": "10f4671c",
   "metadata": {},
   "source": [
    "## Linear Regression"
   ]
  },
  {
   "cell_type": "code",
   "execution_count": 65,
   "id": "26f2dcf7",
   "metadata": {},
   "outputs": [
    {
     "data": {
      "application/vnd.jupyter.widget-view+json": {
       "model_id": "d770bf894f7a413ba21b7d12a72d1ff6",
       "version_major": 2,
       "version_minor": 0
      },
      "text/plain": [
       "VBox()"
      ]
     },
     "metadata": {},
     "output_type": "display_data"
    },
    {
     "data": {
      "application/vnd.jupyter.widget-view+json": {
       "model_id": "",
       "version_major": 2,
       "version_minor": 0
      },
      "text/plain": [
       "FloatProgress(value=0.0, bar_style='info', description='Progress:', layout=Layout(height='25px', width='50%'),…"
      ]
     },
     "metadata": {},
     "output_type": "display_data"
    }
   ],
   "source": [
    "from matplotlib import pyplot as plt\n",
    "import matplotlib.pyplot as plt"
   ]
  },
  {
   "cell_type": "code",
   "execution_count": 66,
   "id": "e1d7bd00",
   "metadata": {},
   "outputs": [
    {
     "data": {
      "application/vnd.jupyter.widget-view+json": {
       "model_id": "c58c3a11ded4440ea84dcce403c3dfdb",
       "version_major": 2,
       "version_minor": 0
      },
      "text/plain": [
       "VBox()"
      ]
     },
     "metadata": {},
     "output_type": "display_data"
    },
    {
     "data": {
      "application/vnd.jupyter.widget-view+json": {
       "model_id": "",
       "version_major": 2,
       "version_minor": 0
      },
      "text/plain": [
       "FloatProgress(value=0.0, bar_style='info', description='Progress:', layout=Layout(height='25px', width='50%'),…"
      ]
     },
     "metadata": {},
     "output_type": "display_data"
    },
    {
     "name": "stdout",
     "output_type": "stream",
     "text": [
      "DenseVector([-0.0, 0.0042, 0.0022, 0.2085, -0.0164, -0.0961, 0.0713, 0.0, 10.867, 4.7141, 1.8536, 8.4198, 0.734, -0.4899, 0.3574, -0.0074, 0.0, 0.0163, -0.2324, -0.0289, 0.1341, 0.0, 0.1165, -0.1123, -0.0017])"
     ]
    }
   ],
   "source": [
    "import pyspark.ml.regression as rg\n",
    "cols = [c for c in df.columns if c != 'GAD_T']\n",
    "# let's predict gad_t  using the rest of features\n",
    "gadt = df.drop('GAD_T')\n",
    "vectorAssembler = feat.VectorAssembler(\n",
    "    inputCols=gadt.columns[:]\n",
    "    , outputCol='features')\n",
    "\n",
    "#cast elevation to float and use it as label\n",
    "gadt_dataset = (\n",
    "    vectorAssembler\n",
    "    .transform(df)\n",
    "    .withColumn(\n",
    "        'label'\n",
    "        , f.col('GAD_T').cast('float'))\n",
    "    .select('label', 'features')\n",
    ")\n",
    "#create a linear regression object and fit to dataset    \n",
    "lr_obj = rg.LinearRegression(\n",
    "    maxIter=10\n",
    "    , regParam=0.01\n",
    "    , elasticNetParam=1.00)\n",
    "lr_model = lr_obj.fit(gadt_dataset)\n",
    "\n",
    "#examine model coefficients\n",
    "lr_model.coefficients"
   ]
  },
  {
   "cell_type": "code",
   "execution_count": 67,
   "id": "1696ab91",
   "metadata": {},
   "outputs": [
    {
     "data": {
      "application/vnd.jupyter.widget-view+json": {
       "model_id": "2ce78b306fc546adb8d8ba5d26ad8274",
       "version_major": 2,
       "version_minor": 0
      },
      "text/plain": [
       "VBox()"
      ]
     },
     "metadata": {},
     "output_type": "display_data"
    },
    {
     "data": {
      "application/vnd.jupyter.widget-view+json": {
       "model_id": "",
       "version_major": 2,
       "version_minor": 0
      },
      "text/plain": [
       "FloatProgress(value=0.0, bar_style='info', description='Progress:', layout=Layout(height='25px', width='50%'),…"
      ]
     },
     "metadata": {},
     "output_type": "display_data"
    },
    {
     "name": "stdout",
     "output_type": "stream",
     "text": [
      "0.4966819582720954 3.329574893431127 2.476767113500111"
     ]
    }
   ],
   "source": [
    "summary = lr_model.summary\n",
    "\n",
    "print(\n",
    "    summary.r2\n",
    "    , summary.rootMeanSquaredError\n",
    "    , summary.meanAbsoluteError\n",
    ")"
   ]
  },
  {
   "cell_type": "markdown",
   "id": "617c00aa",
   "metadata": {},
   "source": [
    "A simple linear regression model shows an r2 score of .49, rmse of 3.33, and mae of 2.48. This means it is still not entirely accurate in predicting the GAD_T score using all features."
   ]
  },
  {
   "cell_type": "code",
   "execution_count": 68,
   "id": "2791dc29",
   "metadata": {},
   "outputs": [
    {
     "data": {
      "application/vnd.jupyter.widget-view+json": {
       "model_id": "776ef28740a74b10a63abf6650fb92a2",
       "version_major": 2,
       "version_minor": 0
      },
      "text/plain": [
       "VBox()"
      ]
     },
     "metadata": {},
     "output_type": "display_data"
    },
    {
     "data": {
      "application/vnd.jupyter.widget-view+json": {
       "model_id": "",
       "version_major": 2,
       "version_minor": 0
      },
      "text/plain": [
       "FloatProgress(value=0.0, bar_style='info', description='Progress:', layout=Layout(height='25px', width='50%'),…"
      ]
     },
     "metadata": {},
     "output_type": "display_data"
    },
    {
     "name": "stdout",
     "output_type": "stream",
     "text": [
      "+-----+------------------+\n",
      "|GAD_T|        prediction|\n",
      "+-----+------------------+\n",
      "|    1| 4.974011693991472|\n",
      "|    1|  1.94754965975699|\n",
      "|    2|2.5185806441107075|\n",
      "|   13|11.064956263031142|\n",
      "|    3|2.6983878577013485|\n",
      "+-----+------------------+\n",
      "only showing top 5 rows"
     ]
    }
   ],
   "source": [
    "from pyspark.ml import Pipeline\n",
    "\n",
    "#we are doing the same thing as the previous cell, now using a pipeline\n",
    "vectorAssembler = feat.VectorAssembler(\n",
    "    inputCols=gadt.columns\n",
    "    , outputCol='features')\n",
    "\n",
    "#Generalized Linear model (GLM) allows for running regression \n",
    "#on non-normal data. identity link function is used when we don't need to\n",
    "#transform dependent varaible. Other link functions, such as log or logit,\n",
    "#transform the dependent variable\n",
    "lr_obj = rg.GeneralizedLinearRegression(\n",
    "    labelCol='GAD_T'\n",
    "    , maxIter=10\n",
    "    , regParam=0.01\n",
    "    , link='identity'\n",
    "    , linkPredictionCol=\"p\"\n",
    ")\n",
    "\n",
    "#create a pipeline of the 2 stages (vectorization, regression)\n",
    "pip = Pipeline(stages=[vectorAssembler, lr_obj])\n",
    "\n",
    "#run the pipeline\n",
    "(\n",
    "    pip\n",
    "    .fit(df)\n",
    "    .transform(df)\n",
    "    .select('GAD_T', 'prediction')\n",
    "    .show(5)\n",
    ")"
   ]
  },
  {
   "cell_type": "markdown",
   "id": "ba8bfa9c",
   "metadata": {},
   "source": [
    "A pipeline will allow us to sequence our models and organize our dataframes a little better."
   ]
  },
  {
   "cell_type": "code",
   "execution_count": 69,
   "id": "9c92af1e",
   "metadata": {},
   "outputs": [
    {
     "data": {
      "application/vnd.jupyter.widget-view+json": {
       "model_id": "",
       "version_major": 2,
       "version_minor": 0
      },
      "text/plain": [
       "FloatProgress(value=0.0, bar_style='info', description='Progress:', layout=Layout(height='25px', width='50%'),…"
      ]
     },
     "metadata": {},
     "output_type": "display_data"
    },
    {
     "data": {
      "application/vnd.jupyter.widget-view+json": {
       "model_id": "",
       "version_major": 2,
       "version_minor": 0
      },
      "text/plain": [
       "FloatProgress(value=0.0, bar_style='info', description='Progress:', layout=Layout(height='25px', width='50%'),…"
      ]
     },
     "metadata": {},
     "output_type": "display_data"
    }
   ],
   "source": [
    "%%spark -o transformed_df -m sample -n 3000\n",
    "#the above magic exports a random sample of 3000 records from transformed_df to local\n",
    "#the default number of records is 2500\n",
    "\n",
    "transformed_df = df.select('GAD_T')"
   ]
  },
  {
   "cell_type": "code",
   "execution_count": 70,
   "id": "94fae0d8",
   "metadata": {},
   "outputs": [
    {
     "data": {
      "text/plain": [
       "GAD_T    1319\n",
       "dtype: int64"
      ]
     },
     "execution_count": 70,
     "metadata": {},
     "output_type": "execute_result"
    }
   ],
   "source": [
    "%%local\n",
    "transformed_df.count()"
   ]
  },
  {
   "cell_type": "code",
   "execution_count": 71,
   "id": "cf010934",
   "metadata": {},
   "outputs": [
    {
     "data": {
      "text/plain": [
       "array([[<AxesSubplot:title={'center':'GAD_T'}>]], dtype=object)"
      ]
     },
     "execution_count": 71,
     "metadata": {},
     "output_type": "execute_result"
    },
    {
     "data": {
      "image/png": "[encoded data removed]",
      "text/plain": [
       "<Figure size 432x288 with 1 Axes>"
      ]
     },
     "metadata": {
      "needs_background": "light"
     },
     "output_type": "display_data"
    }
   ],
   "source": [
    "%%local\n",
    "#draw a histogram of GAD_T\n",
    "transformed_df.hist()"
   ]
  },
  {
   "cell_type": "markdown",
   "id": "51a83043",
   "metadata": {},
   "source": [
    "GAD_T scores are not normally distributed, so if we have to normalize it to better fit our models we will. However, we should avoid overfitting."
   ]
  },
  {
   "cell_type": "markdown",
   "id": "59c245b3",
   "metadata": {},
   "source": [
    "## Selecting the most predictable features"
   ]
  },
  {
   "cell_type": "code",
   "execution_count": 72,
   "id": "581a3772",
   "metadata": {},
   "outputs": [
    {
     "data": {
      "application/vnd.jupyter.widget-view+json": {
       "model_id": "22e8ec33182d438c8f6ae14ebb376a55",
       "version_major": 2,
       "version_minor": 0
      },
      "text/plain": [
       "VBox()"
      ]
     },
     "metadata": {},
     "output_type": "display_data"
    },
    {
     "data": {
      "application/vnd.jupyter.widget-view+json": {
       "model_id": "",
       "version_major": 2,
       "version_minor": 0
      },
      "text/plain": [
       "FloatProgress(value=0.0, bar_style='info', description='Progress:', layout=Layout(height='25px', width='50%'),…"
      ]
     },
     "metadata": {},
     "output_type": "display_data"
    },
    {
     "name": "stdout",
     "output_type": "stream",
     "text": [
      "{'ml_attr': {'attrs': {'numeric': [{'idx': 0, 'name': 'Hours'}, {'idx': 1, 'name': 'Narcissism'}, {'idx': 2, 'name': 'SWL_T'}, {'idx': 3, 'name': 'SPIN_T'}, {'idx': 4, 'name': 'e_GADE_Extremely_difficult'}, {'idx': 5, 'name': 'e_GADE_Somewhat_difficult'}, {'idx': 6, 'name': 'e_GADE_Not_difficult_at_all'}, {'idx': 7, 'name': 'e_GADE_Very_difficult'}, {'idx': 8, 'name': 'e_Gender_Male'}, {'idx': 9, 'name': 'e_Gender_Female'}]}, 'num_attrs': 10}}"
     ]
    }
   ],
   "source": [
    "#exclude the label CoverType from features vector\n",
    "vectorAssembler = feat.VectorAssembler(\n",
    "    inputCols=gadt.columns\n",
    "    , outputCol='features'\n",
    ")\n",
    "\n",
    "#select top 10 features, store in a new column named selected\n",
    "selector = feat.ChiSqSelector(\n",
    "    labelCol='GAD_T'\n",
    "    , numTopFeatures=10\n",
    "    , outputCol='selected')\n",
    "\n",
    "pipeline_sel = Pipeline(stages=[vectorAssembler, selector])\n",
    "\n",
    "model = (\n",
    "    pipeline_sel\n",
    "    .fit(df)\n",
    "    .transform(df)\n",
    ")\n",
    "\n",
    "#print selected features\n",
    "model.schema['selected'].metadata"
   ]
  },
  {
   "cell_type": "markdown",
   "id": "fb8807d8",
   "metadata": {},
   "source": [
    "For the GAD7 (Generalized Anxiety Disorder) assessment, the number one most predictable feature is Hours. This was expected, but now we have a bit more data that can prove useful in our models."
   ]
  },
  {
   "cell_type": "markdown",
   "id": "9ea215b6",
   "metadata": {},
   "source": [
    "## Gradient Boosted Trees Regression"
   ]
  },
  {
   "cell_type": "code",
   "execution_count": 73,
   "id": "391c346b",
   "metadata": {},
   "outputs": [
    {
     "data": {
      "application/vnd.jupyter.widget-view+json": {
       "model_id": "df61c8ea4f39487db964d013134b6a41",
       "version_major": 2,
       "version_minor": 0
      },
      "text/plain": [
       "VBox()"
      ]
     },
     "metadata": {},
     "output_type": "display_data"
    },
    {
     "data": {
      "application/vnd.jupyter.widget-view+json": {
       "model_id": "",
       "version_major": 2,
       "version_minor": 0
      },
      "text/plain": [
       "FloatProgress(value=0.0, bar_style='info', description='Progress:', layout=Layout(height='25px', width='50%'),…"
      ]
     },
     "metadata": {},
     "output_type": "display_data"
    },
    {
     "name": "stdout",
     "output_type": "stream",
     "text": [
      "0.4754709645690611"
     ]
    }
   ],
   "source": [
    "# Create a pipeline for gbt\n",
    "import pyspark.ml.evaluation as ev\n",
    "gbt_obj = rg.GBTRegressor(\n",
    "    labelCol='GAD_T'\n",
    "    , minInstancesPerNode=10\n",
    "    , minInfoGain=0.1\n",
    ")\n",
    "\n",
    "pip = Pipeline(stages=[vectorAssembler, gbt_obj])\n",
    "\n",
    "results = (\n",
    "    pip\n",
    "    .fit(df)\n",
    "    .transform(df)\n",
    "    .select('GAD_T', 'prediction')\n",
    ")\n",
    "\n",
    "evaluator = ev.RegressionEvaluator(labelCol='GAD_T')\n",
    "evaluator.evaluate(results, {evaluator.metricName: 'r2'})"
   ]
  },
  {
   "cell_type": "markdown",
   "id": "d7e08138",
   "metadata": {},
   "source": [
    "According to this model, gradient boosted trees results in a lower r2 score than our simple linear regression from earlier (.47 vs .49). "
   ]
  },
  {
   "cell_type": "code",
   "execution_count": 87,
   "id": "2bdba743",
   "metadata": {},
   "outputs": [
    {
     "data": {
      "application/vnd.jupyter.widget-view+json": {
       "model_id": "843bb03e7dbe410395816f59d5868073",
       "version_major": 2,
       "version_minor": 0
      },
      "text/plain": [
       "VBox()"
      ]
     },
     "metadata": {},
     "output_type": "display_data"
    },
    {
     "data": {
      "application/vnd.jupyter.widget-view+json": {
       "model_id": "",
       "version_major": 2,
       "version_minor": 0
      },
      "text/plain": [
       "FloatProgress(value=0.0, bar_style='info', description='Progress:', layout=Layout(height='25px', width='50%'),…"
      ]
     },
     "metadata": {},
     "output_type": "display_data"
    },
    {
     "name": "stderr",
     "output_type": "stream",
     "text": [
      "Exception in thread cell_monitor-75:\n",
      "Traceback (most recent call last):\n",
      "  File \"/emr/notebook-env/lib/python3.7/threading.py\", line 926, in _bootstrap_inner\n",
      "    self.run()\n",
      "  File \"/emr/notebook-env/lib/python3.7/threading.py\", line 870, in run\n",
      "    self._target(*self._args, **self._kwargs)\n",
      "  File \"/emr/notebook-env/lib/python3.7/site-packages/awseditorssparkmonitoringwidget-1.0-py3.7.egg/awseditorssparkmonitoringwidget/cellmonitor.py\", line 178, in cell_monitor\n",
      "    job_binned_stages[job_id][stage_id] = all_stages[stage_id]\n",
      "KeyError: 513\n",
      "\n"
     ]
    },
    {
     "name": "stdout",
     "output_type": "stream",
     "text": [
      "0.48943221610298104\n",
      "3.353468590462133\n",
      "2.521656559627194"
     ]
    }
   ],
   "source": [
    "vectorAssembler = feat.VectorAssembler(\n",
    "    inputCols=gadt.columns\n",
    "    , outputCol='features')\n",
    "\n",
    "#Generalized Linear model (GLM) allows for running regression \n",
    "#on non-normal data. identity link function is used when we don't need to\n",
    "#transform dependent varaible. Other link functions, such as log or logit,\n",
    "#transform the dependent variable\n",
    "lr_obj = rg.GeneralizedLinearRegression(\n",
    "    labelCol='GAD_T'\n",
    "    , maxIter=10\n",
    "    , regParam=0.25\n",
    "    , link='identity'\n",
    "    , linkPredictionCol=\"p\"\n",
    ")\n",
    "\n",
    "#create a pipeline of the 2 stages (vectorization, regression)\n",
    "pip = Pipeline(stages=[vectorAssembler, lr_obj])\n",
    "\n",
    "#run the pipeline\n",
    "results = (\n",
    "    pip\n",
    "    .fit(df)\n",
    "    .transform(df)\n",
    "    .select('GAD_T', 'prediction')\n",
    ")\n",
    "\n",
    "evaluator = ev.RegressionEvaluator(labelCol='GAD_T')\n",
    "print(evaluator.evaluate(results, {evaluator.metricName: 'r2'}))\n",
    "print(evaluator.evaluate(results, {evaluator.metricName: 'rmse'}))\n",
    "print(evaluator.evaluate(results, {evaluator.metricName: 'mae'}))"
   ]
  },
  {
   "cell_type": "markdown",
   "id": "15295613",
   "metadata": {},
   "source": [
    "These are our 3 metrics from earlier, implemented in a much neater method thanks to pipeline."
   ]
  },
  {
   "cell_type": "code",
   "execution_count": null,
   "id": "cabc68aa",
   "metadata": {},
   "outputs": [],
   "source": []
  },
  {
   "cell_type": "markdown",
   "id": "3debe965",
   "metadata": {},
   "source": [
    "## Tuning Hyperparameters"
   ]
  },
  {
   "cell_type": "code",
   "execution_count": 83,
   "id": "84a30737",
   "metadata": {},
   "outputs": [
    {
     "data": {
      "application/vnd.jupyter.widget-view+json": {
       "model_id": "33e8d28acbbf41c9b29756b71c67c0d4",
       "version_major": 2,
       "version_minor": 0
      },
      "text/plain": [
       "VBox()"
      ]
     },
     "metadata": {},
     "output_type": "display_data"
    },
    {
     "data": {
      "application/vnd.jupyter.widget-view+json": {
       "model_id": "",
       "version_major": 2,
       "version_minor": 0
      },
      "text/plain": [
       "FloatProgress(value=0.0, bar_style='info', description='Progress:', layout=Layout(height='25px', width='50%'),…"
      ]
     },
     "metadata": {},
     "output_type": "display_data"
    },
    {
     "name": "stdout",
     "output_type": "stream",
     "text": [
      "0.4899174062676058\n",
      "3.336647555994225\n",
      "2.540737643450431\n",
      "Best params, regParam: 0.25, elasticNetParam: 0.25"
     ]
    }
   ],
   "source": [
    "# Tune hyperparameters such as regParam and elasticNetParam to find the best combination\n",
    "import pyspark.ml.tuning as tune\n",
    "df_train, df_test = (\n",
    "    df\n",
    "    .randomSplit([0.7, 0.3], seed=666)\n",
    ")\n",
    "\n",
    "vectorAssembler = feat.VectorAssembler(\n",
    "    inputCols=gadt.columns\n",
    "    , outputCol='features')\n",
    "\n",
    "selector = feat.ChiSqSelector(\n",
    "    labelCol='GAD_T'\n",
    "    , numTopFeatures=5\n",
    "    , outputCol='selected')\n",
    "\n",
    "lr_obj = rg.LinearRegression(\n",
    "    labelCol='GAD_T'\n",
    "    ,maxIter=10\n",
    "    , regParam=0.01\n",
    "    , elasticNetParam=1.00)\n",
    "    \n",
    "lr_grid = (\n",
    "    tune.ParamGridBuilder()\n",
    "    #try 2 values for regParam\n",
    "    .addGrid(lr_obj.regParam\n",
    "            , [0.25, 0.5, 0.75]\n",
    "        )\n",
    "     #try 2 values for elasticNetParam\n",
    "    .addGrid(lr_obj.elasticNetParam\n",
    "            , [1.0, 0.5, .25]\n",
    "        )\n",
    "    .build()\n",
    ")\n",
    "\n",
    "lr_ev = ev.RegressionEvaluator(labelCol='GAD_T')\n",
    "\n",
    "train_v = tune.TrainValidationSplit(\n",
    "    estimator=lr_obj\n",
    "    , estimatorParamMaps=lr_grid\n",
    "    , evaluator= lr_ev\n",
    "    #, parallelism=4\n",
    ")\n",
    "\n",
    "pipeline = Pipeline(stages=[vectorAssembler, selector])\n",
    "data_trans = pipeline.fit(df_train)\n",
    "\n",
    "\n",
    "lrReg_modelTrainV = (\n",
    "    train_v\n",
    "    .fit(data_trans.transform(df_train)))\n",
    "\n",
    "data_trans_test = data_trans.transform(df_test)\n",
    "\n",
    "results = lrReg_modelTrainV.transform(data_trans_test)\n",
    "\n",
    "print(lr_ev.evaluate(results, {lr_ev.metricName: 'r2'}))\n",
    "print(lr_ev.evaluate(results, {lr_ev.metricName: 'rmse'}))\n",
    "print(lr_ev.evaluate(results, {lr_ev.metricName: 'mae'}))\n",
    "print('Best params, regParam: %s, elasticNetParam: %s' \n",
    "      %(lrReg_modelTrainV.bestModel._java_obj.getRegParam(),\n",
    "       lrReg_modelTrainV.bestModel._java_obj.getElasticNetParam()))"
   ]
  },
  {
   "cell_type": "code",
   "execution_count": 85,
   "id": "a8194426",
   "metadata": {},
   "outputs": [
    {
     "data": {
      "application/vnd.jupyter.widget-view+json": {
       "model_id": "1b33a6181039468184ce526236abdd45",
       "version_major": 2,
       "version_minor": 0
      },
      "text/plain": [
       "VBox()"
      ]
     },
     "metadata": {},
     "output_type": "display_data"
    },
    {
     "data": {
      "application/vnd.jupyter.widget-view+json": {
       "model_id": "",
       "version_major": 2,
       "version_minor": 0
      },
      "text/plain": [
       "FloatProgress(value=0.0, bar_style='info', description='Progress:', layout=Layout(height='25px', width='50%'),…"
      ]
     },
     "metadata": {},
     "output_type": "display_data"
    },
    {
     "name": "stderr",
     "output_type": "stream",
     "text": [
      "Exception in thread cell_monitor-73:\n",
      "Traceback (most recent call last):\n",
      "  File \"/emr/notebook-env/lib/python3.7/threading.py\", line 926, in _bootstrap_inner\n",
      "    self.run()\n",
      "  File \"/emr/notebook-env/lib/python3.7/threading.py\", line 870, in run\n",
      "    self._target(*self._args, **self._kwargs)\n",
      "  File \"/emr/notebook-env/lib/python3.7/site-packages/awseditorssparkmonitoringwidget-1.0-py3.7.egg/awseditorssparkmonitoringwidget/cellmonitor.py\", line 178, in cell_monitor\n",
      "    job_binned_stages[job_id][stage_id] = all_stages[stage_id]\n",
      "KeyError: 487\n",
      "\n"
     ]
    },
    {
     "name": "stdout",
     "output_type": "stream",
     "text": [
      "0.48410247930100647\n",
      "3.3709263147507196\n",
      "2.544967869328313"
     ]
    }
   ],
   "source": [
    "vectorAssembler = feat.VectorAssembler(\n",
    "    inputCols=gadt.columns\n",
    "    , outputCol='features')\n",
    "#create a linear regression object and fit to dataset    \n",
    "lr_obj = rg.LinearRegression(\n",
    "    labelCol='GAD_T'\n",
    "    ,maxIter=10\n",
    "    , regParam=0.25\n",
    "    , elasticNetParam=0.25)\n",
    "\n",
    "#create a pipeline of the 2 stages (vectorization, regression)\n",
    "pip = Pipeline(stages=[vectorAssembler, lr_obj])\n",
    "\n",
    "#run the pipeline\n",
    "results = (\n",
    "    pip\n",
    "    .fit(df)\n",
    "    .transform(df)\n",
    "    .select('GAD_T', 'prediction')\n",
    ")\n",
    "\n",
    "evaluator = ev.RegressionEvaluator(labelCol='GAD_T')\n",
    "print(evaluator.evaluate(results, {evaluator.metricName: 'r2'}))\n",
    "print(evaluator.evaluate(results, {evaluator.metricName: 'rmse'}))\n",
    "print(evaluator.evaluate(results, {evaluator.metricName: 'mae'}))"
   ]
  },
  {
   "cell_type": "code",
   "execution_count": null,
   "id": "68a7f7bc",
   "metadata": {},
   "outputs": [],
   "source": []
  }
 ],
 "metadata": {
  "kernelspec": {
   "display_name": "PySpark",
   "language": "",
   "name": "pysparkkernel"
  },
  "language_info": {
   "codemirror_mode": {
    "name": "python",
    "version": 3
   },
   "mimetype": "text/x-python",
   "name": "pyspark",
   "pygments_lexer": "python3"
  }
 },
 "nbformat": 4,
 "nbformat_minor": 5
}
